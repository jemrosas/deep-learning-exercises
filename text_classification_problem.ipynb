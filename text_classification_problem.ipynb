{
  "nbformat": 4,
  "nbformat_minor": 0,
  "metadata": {
    "kernelspec": {
      "display_name": "Python 3",
      "language": "python",
      "name": "python3"
    },
    "language_info": {
      "codemirror_mode": {
        "name": "ipython",
        "version": 3
      },
      "file_extension": ".py",
      "mimetype": "text/x-python",
      "name": "python",
      "nbconvert_exporter": "python",
      "pygments_lexer": "ipython3",
      "version": "3.7.3"
    },
    "colab": {
      "name": "problem_0801_Jesica_Míguez_Rosas.ipynb",
      "provenance": [],
      "collapsed_sections": []
    },
    "accelerator": "GPU"
  },
  "cells": [
    {
      "cell_type": "markdown",
      "metadata": {
        "id": "vFoPiBcjl6D8"
      },
      "source": [
        "## Quiz #0801"
      ]
    },
    {
      "cell_type": "markdown",
      "metadata": {
        "id": "7nAMniiol6D-"
      },
      "source": [
        "### \"Text Classification with Keras\""
      ]
    },
    {
      "cell_type": "code",
      "metadata": {
        "id": "rUVuz-2xl6D_"
      },
      "source": [
        "import numpy as np\n",
        "import pandas as pd\n",
        "import re\n",
        "import nltk\n",
        "import os\n",
        "import seaborn as sns\n",
        "import matplotlib.pyplot as plt\n",
        "from nltk.corpus import stopwords\n",
        "from sklearn.datasets import load_files\n",
        "from sklearn.model_selection import train_test_split\n",
        "from tensorflow.keras.models import Sequential\n",
        "from tensorflow.keras.layers import Dense, SimpleRNN, LSTM, Embedding\n",
        "from tensorflow.keras.utils import to_categorical\n",
        "from tensorflow.keras.preprocessing import sequence\n",
        "from tensorflow.keras.optimizers import Adam, RMSprop, SGD\n",
        "#nltk.download('stopwords')"
      ],
      "execution_count": 1,
      "outputs": []
    },
    {
      "cell_type": "markdown",
      "metadata": {
        "id": "OKMEJSA2l6EA"
      },
      "source": [
        "#### Answer the following question by providing Python code:"
      ]
    },
    {
      "cell_type": "markdown",
      "metadata": {
        "id": "2mR9sIz8l6EA"
      },
      "source": [
        "1). Read in the movie review data from Cornell CS department. Carry out the EDA. <br>\n",
        "- The data can be found [here](https://www.cs.cornell.edu/people/pabo/movie-review-data). <br>\n",
        "- Download the “polarity dataset” and unzip (!tar -x -f review_polarity.tar.gz). <br>\n",
        "- Under the \"txt_sentoken” folder, there are “pos” and “neg\" subfolders. <br>"
      ]
    },
    {
      "cell_type": "code",
      "metadata": {
        "id": "UyEvyokyl6EA"
      },
      "source": [
        "#Descomprimimos la carpeta descargada\n",
        "!tar -x -f review_polarity.tar.gz"
      ],
      "execution_count": 2,
      "outputs": []
    },
    {
      "cell_type": "code",
      "metadata": {
        "id": "3TPZTqpls-ay"
      },
      "source": [
        "# Guardamos la info en una variable \n",
        "data = load_files('./txt_sentoken/',encoding='latin1')"
      ],
      "execution_count": 3,
      "outputs": []
    },
    {
      "cell_type": "code",
      "metadata": {
        "colab": {
          "base_uri": "https://localhost:8080/"
        },
        "id": "EN-PuYx0tHgi",
        "outputId": "f69cd563-0136-40f7-ae8c-92354bfb6977"
      },
      "source": [
        "data.keys()"
      ],
      "execution_count": 4,
      "outputs": [
        {
          "output_type": "execute_result",
          "data": {
            "text/plain": [
              "dict_keys(['data', 'filenames', 'target_names', 'target', 'DESCR'])"
            ]
          },
          "metadata": {},
          "execution_count": 4
        }
      ]
    },
    {
      "cell_type": "code",
      "metadata": {
        "colab": {
          "base_uri": "https://localhost:8080/"
        },
        "id": "2Qm8d5AstR7r",
        "outputId": "07970c92-b0a6-49f8-9cfd-cd1e620722a4"
      },
      "source": [
        "#Visualizamos las 5 primeras reseñas\n",
        "data['data'][:5]"
      ],
      "execution_count": 5,
      "outputs": [
        {
          "output_type": "execute_result",
          "data": {
            "text/plain": [
              "[\"arnold schwarzenegger has been an icon for action enthusiasts , since the late 80's , but lately his films have been very sloppy and the one-liners are getting worse . \\nit's hard seeing arnold as mr . freeze in batman and robin , especially when he says tons of ice jokes , but hey he got 15 million , what's it matter to him ? \\nonce again arnold has signed to do another expensive blockbuster , that can't compare with the likes of the terminator series , true lies and even eraser . \\nin this so called dark thriller , the devil ( gabriel byrne ) has come upon earth , to impregnate a woman ( robin tunney ) which happens every 1000 years , and basically destroy the world , but apparently god has chosen one man , and that one man is jericho cane ( arnold himself ) . \\nwith the help of a trusty sidekick ( kevin pollack ) , they will stop at nothing to let the devil take over the world ! \\nparts of this are actually so absurd , that they would fit right in with dogma . \\nyes , the film is that weak , but it's better than the other blockbuster right now ( sleepy hollow ) , but it makes the world is not enough look like a 4 star film . \\nanyway , this definitely doesn't seem like an arnold movie . \\nit just wasn't the type of film you can see him doing . \\nsure he gave us a few chuckles with his well known one-liners , but he seemed confused as to where his character and the film was going . \\nit's understandable , especially when the ending had to be changed according to some sources . \\naside form that , he still walked through it , much like he has in the past few films . \\ni'm sorry to say this arnold but maybe these are the end of your action days . \\nspeaking of action , where was it in this film ? \\nthere was hardly any explosions or fights . \\nthe devil made a few places explode , but arnold wasn't kicking some devil butt . \\nthe ending was changed to make it more spiritual , which undoubtedly ruined the film . \\ni was at least hoping for a cool ending if nothing else occurred , but once again i was let down . \\ni also don't know why the film took so long and cost so much . \\nthere was really no super affects at all , unless you consider an invisible devil , who was in it for 5 minutes tops , worth the overpriced budget . \\nthe budget should have gone into a better script , where at least audiences could be somewhat entertained instead of facing boredom . \\nit's pitiful to see how scripts like these get bought and made into a movie . \\ndo they even read these things anymore ? \\nit sure doesn't seem like it . \\nthankfully gabriel's performance gave some light to this poor film . \\nwhen he walks down the street searching for robin tunney , you can't help but feel that he looked like a devil . \\nthe guy is creepy looking anyway ! \\nwhen it's all over , you're just glad it's the end of the movie . \\ndon't bother to see this , if you're expecting a solid action flick , because it's neither solid nor does it have action . \\nit's just another movie that we are suckered in to seeing , due to a strategic marketing campaign . \\nsave your money and see the world is not enough for an entertaining experience . \\n\",\n",
              " \"good films are hard to find these days . \\ngreat films are beyond rare . \\nproof of life , russell crowe's one-two punch of a deft kidnap and rescue thriller , is one of those rare gems . \\na taut drama laced with strong and subtle acting , an intelligent script , and masterful directing , together it delivers something virtually unheard of in the film industry these days , genuine motivation in a story that rings true . \\nconsider the strange coincidence of russell crowe's character in proof of life making the moves on a distraught wife played by meg ryan's character in the film -- all while the real russell crowe was hitching up with married woman meg ryan in the outside world . \\ni haven't seen this much chemistry between actors since mcqueen and mcgraw teamed up in peckinpah's masterpiece , the getaway . \\nbut enough with the gossip , let's get to the review . \\nthe film revolves around the kidnapping of peter bowman ( david morse ) , an american engineer working in south america who is kidnapped during a mass ambush of civilians by anti-government soldiers . \\nupon discovering his identity , the rebel soldiers decide to ransom him for $6 million . \\nthe only problem is that the company peter bowman works for is being auctioned off , and no one will step forward with the money . \\nwith no choice available to her , bowman's wife alice ( ryan ) hires terry thorne ( crowe ) , a highly skilled negotiator and rescue operative , to arrange the return of her husband . \\nbut when things go wrong -- as they always do in these situations -- terry and his team ( which includes the most surprising casting choice of the year : david caruso ) take matters into their own hands . \\nthe film is notable in that it takes this very simple story line and creates a complex and intelligent character-driven vehicle filled with well-written dialogue , shades of motivation , and convincing acting by all the actors . \\nthe script is based on both a book ( the long march to freedom ) and a magazine article pertaining to kidnap/ransom situations , and the story has been sharply pieced together by tony gilroy , screenwriter of the devil's advocate and dolores claiborne . \\nthe biggest surprise for me was not the chemistry between crowe and ryan , but that between crowe and david caruso . \\ndug out from b-movie hell , caruso pulls off a gutsy performance as crowe's right hand gun while providing most of the film's humor . \\nryan cries a lot and smokes too many cigarettes , david morse ends up getting everyone at the guerilla camp to hate him , and crowe provides another memorable acting turn as the stoic , gunslinger character of terry thorne . \\nthe most memorable pieces of the film lie in its action scenes . \\nthe bulk of those scenes , which bookend the movie , work extremely well as establishment and closure devices for all of the story's characters . \\nthe scenes are skillfully crafted and executed with amazing accuracy and poise . \\ndirector taylor hackford mixes both his old-school style of filmmaking with the dizziness of a lars von trier film . \\nproof of life is a thinking man's action movie . \\nit is a film about the choices men and women make in the face of love and war , and the sacrifices one makes for those choices -- the sacrifices that help you sleep at night . \\n\",\n",
              " \"quaid stars as a man who has taken up the proffesion of dragonslayer after he feels he is betrayed by a dragon early in the movie . \\nhe runs into the last dragon in existence , and there is a genuinely amusing battle between the two which results in a standoff where quaid is in the dragons mouth , but has his sword pointed at the dragons brain . \\neventually , they decide to call a truce , and they work out a deal . \\nsince he is the last dragon , he will pretend to die and quaid will be able to get paid for it . \\ntheir scam works at first , until they come to a town without any money . \\ninstead the town sacrifices a girl to the dragon , but of course , draco is a nice droagon , so he won't eat her . there is however a very amusing scene where draco is hitting on the young girl . \\nof course , as you can probably tell by the plot , this is a silly movie , but it does know when to take itself seriously at the right times , unlike eddie , which was serious all the time . \\nyou could probably call this a medieval comedy , because there are more laughs here than in eddie and spy hard combined . \\ndennis quaid makes a fine hero . \\npete posthlewaite provides some ghreat comedy as a monk who journeys with them . \\ndina meyer is appealing as the sacrificed girl . \\nbut lets face it , the movie is really about the dragon , and what an amazing creation he is . \\nconnery's voice and ilm team up to provide us with a truly magnificent dragon . \\nso , if you are going to see this movie for a strong hard core medieval epic , you are going to the wrong movie . \\nif you are going because of the dragon , you will not be dissapointed , and you will be provided with plenty of laughs that smooth out the boring parts in the script . \\n\",\n",
              " 'we could paraphrase michelle pfieffer\\'s character in dangerous minds and say that beyond rangoon starts with an \" a . \" \\nthat\\'s fair enough . \\nall movies , like all school children , should be given the benefit of the doubt . \\nthe chance to succeed . \\nafter all , we like to think that the right combination of talent and effort can do wonders . \\nmountains can be moved , and good movies can be made . \\nyeah right . \\nchildren fail , as do films . \\nas does director john boorman\\'s latest . \\nthe success of beyond rangoon hinges on the believability of patricia arquette ( ed wood , true romance ) as the busty westerner-in-peril wandering about 1988 burma without a passport . \\nthough we can stomach the mild plot contrivances that get her there , it\\'s a tougher task to overlook the actress . \\nshe\\'s a lightweight . \\nas the first scene ( with narration ! ) \\ndemonstrates , she doesn\\'t have * nearly * enough range for the emotions that her character--a mother fleeing the memories of a murdered husband and son--is supposed to show . \\nshe may give a stronger performance than , say , keanu reeves in a walk in the clouds , by not by much . \\nbeyond rangoon is a very physically appealing film , thanks to the practiced craftsmanship of john boorman ( deliverance , excalibur , hope and glory ) . \\nhe keeps the narrative moving , no matter how muddy the story--or the heroine--gets . \\nwhy he chose arquette remains a mystery , though . \\nmaybe he was thinking that the dramatic weight of the story would overcome any casting deficiencies . \\nbut even after an hour of half-stated political statements and murky mass killings , we * still * don\\'t know enough of what\\'s happening in this country to feel distressed for the characters or their situations . \\nempty exoticism . \\nthe technical credits in beyond rangoon are a curious mix , combining lush jungle photography with bad blue-screen work . \\nalso odd is the obvious dubbing . \\ndone to make some of the foreign characters sound less foreign ? \\nand , is it my mistake , or do the same extras keep reappearing as different soldiers ? ? \\ndoo doo doo doo . \\n[ \" twilight zone \" theme , or opinion of movie . \\nyou be the judge . ] \\n',\n",
              " \"kolya is one of the richest films i've seen in some time . \\nzdenek sverak plays a confirmed old bachelor ( who's likely to remain so ) , who finds his life as a czech cellist increasingly impacted by the five-year old boy that he's taking care of . \\nthough it ends rather abruptly-- and i'm whining , 'cause i wanted to spend more time with these characters-- the acting , writing , and production values are as high as , if not higher than , comparable american dramas . \\nthis father-and-son delight-- sverak also wrote the script , while his son , jan , directed-- won a golden globe for best foreign language film and , a couple days after i saw it , walked away an oscar . \\nin czech and russian , with english subtitles . \\n\"]"
            ]
          },
          "metadata": {},
          "execution_count": 5
        }
      ]
    },
    {
      "cell_type": "code",
      "metadata": {
        "id": "u3E5wsfAti7i"
      },
      "source": [
        "#Asignamos los datos a las variables X e Y\n",
        "X = data['data']\n",
        "Y = data['target']"
      ],
      "execution_count": 6,
      "outputs": []
    },
    {
      "cell_type": "markdown",
      "metadata": {
        "id": "MPWQs8OBl6EB"
      },
      "source": [
        "2). Carry out the data preprocessing: <br>\n",
        "- Cleaning.\n",
        "- Stopword removal."
      ]
    },
    {
      "cell_type": "code",
      "metadata": {
        "id": "3M1kCZfnl6EB",
        "colab": {
          "base_uri": "https://localhost:8080/"
        },
        "outputId": "1556c00e-f2b1-4c4b-f0f2-00e3d332e447"
      },
      "source": [
        "# Comprobamos las cuántas clases tiene la variable Y (0 y 1), así como la cantidad de datos pertenecientes a casa una.\n",
        "np.unique(Y, return_counts=True)"
      ],
      "execution_count": 7,
      "outputs": [
        {
          "output_type": "execute_result",
          "data": {
            "text/plain": [
              "(array([0, 1]), array([1000, 1000]))"
            ]
          },
          "metadata": {},
          "execution_count": 7
        }
      ]
    },
    {
      "cell_type": "code",
      "metadata": {
        "colab": {
          "base_uri": "https://localhost:8080/"
        },
        "id": "cdkp_ES_wiCL",
        "outputId": "3c0f8868-8481-4d30-c148-752a9b82bd2d"
      },
      "source": [
        "len(X)"
      ],
      "execution_count": 8,
      "outputs": [
        {
          "output_type": "execute_result",
          "data": {
            "text/plain": [
              "2000"
            ]
          },
          "metadata": {},
          "execution_count": 8
        }
      ]
    },
    {
      "cell_type": "code",
      "metadata": {
        "id": "SoWFf91QxN8s"
      },
      "source": [
        "#Ambas posibles clasificaciones tienen el mismo número de datos/reviews. Están equilibradas (no necesitan que las igualemos)."
      ],
      "execution_count": 9,
      "outputs": []
    },
    {
      "cell_type": "code",
      "metadata": {
        "colab": {
          "base_uri": "https://localhost:8080/"
        },
        "id": "Bcan__ZQx9Ki",
        "outputId": "7e31d9c0-3c45-48d8-da85-25ddc00c3fd8"
      },
      "source": [
        "numClasses = len(np.unique(Y))\n",
        "print(numClasses)"
      ],
      "execution_count": 10,
      "outputs": [
        {
          "output_type": "stream",
          "name": "stdout",
          "text": [
            "2\n"
          ]
        }
      ]
    },
    {
      "cell_type": "code",
      "metadata": {
        "id": "9qzQro0SxiBL"
      },
      "source": [
        "#Codificar cada palabra con un índice (es necesario para nuestra capa Embedding)\n",
        "#Preprocesamos las documentos(mensajes) (https://docs.python.org/3/howto/regex.html)\n",
        "corpus=[]\n",
        "for i in range(len(X)):\n",
        "  review = X[i] #Seleccionamos el m ensaje\n",
        "  review = re.sub(r'\\W', ' ', str(X[i]))  #Reemplaza todo lo que no sea un caracter alfanumérico por un espacio\n",
        "  review = review.lower()\n",
        "  review = re.sub(r'^br$', ' ', review)         #Reemplaza los saltos de línea/br (sin espacios)\n",
        "  review = re.sub(r'\\s+br\\s+',' ',review)       #Reemplaza los saltos de línea/br con espacios antes y después del mismo\n",
        "  review = re.sub(r'\\s+[a-z]\\s+', ' ',review)   #Reemplaza el patrón 'espacio-letra-espacio' en una cadena de texto\n",
        "  review = re.sub(r'^b\\s+', '', review)         #Reemplaza las 'b' seguida de espacio al principio de una cadena de texto\n",
        "  review = re.sub(r'\\s+', ' ', review)          #Elimina los espacios que introdujimos en los anteriores pasos, mediante la sustitución.\n",
        "  corpus.append(review)"
      ],
      "execution_count": 11,
      "outputs": []
    },
    {
      "cell_type": "code",
      "metadata": {
        "colab": {
          "base_uri": "https://localhost:8080/"
        },
        "id": "kfx_juz-1dkE",
        "outputId": "5e350927-8662-4d61-a861-66cb798a66f5"
      },
      "source": [
        "#Comparamos la londitud de la X antes y después del prepocesado de datos\n",
        "print(len(corpus), len(X))"
      ],
      "execution_count": 12,
      "outputs": [
        {
          "output_type": "stream",
          "name": "stdout",
          "text": [
            "2000 2000\n"
          ]
        }
      ]
    },
    {
      "cell_type": "code",
      "metadata": {
        "colab": {
          "base_uri": "https://localhost:8080/"
        },
        "id": "xmaxJXV-3i7U",
        "outputId": "01994fc4-6758-49fd-b072-dd835ac777f4"
      },
      "source": [
        "#Visualizamos cómo ha quedado el corpus\n",
        "n = 10\n",
        "for i in range(n):\n",
        "  print(corpus[i])"
      ],
      "execution_count": 13,
      "outputs": [
        {
          "output_type": "stream",
          "name": "stdout",
          "text": [
            "arnold schwarzenegger has been an icon for action enthusiasts since the late 80 but lately his films have been very sloppy and the one liners are getting worse it hard seeing arnold as mr freeze in batman and robin especially when he says tons of ice jokes but hey he got 15 million what it matter to him once again arnold has signed to do another expensive blockbuster that can compare with the likes of the terminator series true lies and even eraser in this so called dark thriller the devil gabriel byrne has come upon earth to impregnate woman robin tunney which happens every 1000 years and basically destroy the world but apparently god has chosen one man and that one man is jericho cane arnold himself with the help of trusty sidekick kevin pollack they will stop at nothing to let the devil take over the world parts of this are actually so absurd that they would fit right in with dogma yes the film is that weak but it better than the other blockbuster right now sleepy hollow but it makes the world is not enough look like 4 star film anyway this definitely doesn seem like an arnold movie it just wasn the type of film you can see him doing sure he gave us few chuckles with his well known one liners but he seemed confused as to where his character and the film was going it understandable especially when the ending had to be changed according to some sources aside form that he still walked through it much like he has in the past few films m sorry to say this arnold but maybe these are the end of your action days speaking of action where was it in this film there was hardly any explosions or fights the devil made few places explode but arnold wasn kicking some devil butt the ending was changed to make it more spiritual which undoubtedly ruined the film was at least hoping for cool ending if nothing else occurred but once again was let down also don know why the film took so long and cost so much there was really no super affects at all unless you consider an invisible devil who was in it for 5 minutes tops worth the overpriced budget the budget should have gone into better script where at least audiences could be somewhat entertained instead of facing boredom it pitiful to see how scripts like these get bought and made into movie do they even read these things anymore it sure doesn seem like it thankfully gabriel performance gave some light to this poor film when he walks down the street searching for robin tunney you can help but feel that he looked like devil the guy is creepy looking anyway when it all over you re just glad it the end of the movie don bother to see this if you re expecting solid action flick because it neither solid nor does it have action it just another movie that we are suckered in to seeing due to strategic marketing campaign save your money and see the world is not enough for an entertaining experience \n",
            "good films are hard to find these days great films are beyond rare proof of life russell crowe one two punch of deft kidnap and rescue thriller is one of those rare gems taut drama laced with strong and subtle acting an intelligent script and masterful directing together it delivers something virtually unheard of in the film industry these days genuine motivation in story that rings true consider the strange coincidence of russell crowe character in proof of life making the moves on distraught wife played by meg ryan character in the film all while the real russell crowe was hitching up with married woman meg ryan in the outside world haven seen this much chemistry between actors since mcqueen and mcgraw teamed up in peckinpah masterpiece the getaway but enough with the gossip let get to the review the film revolves around the kidnapping of peter bowman david morse an american engineer working in south america who is kidnapped during mass ambush of civilians by anti government soldiers upon discovering his identity the rebel soldiers decide to ransom him for 6 million the only problem is that the company peter bowman works for is being auctioned off and no one will step forward with the money with no choice available to her bowman wife alice ryan hires terry thorne crowe highly skilled negotiator and rescue operative to arrange the return of her husband but when things go wrong as they always do in these situations terry and his team which includes the most surprising casting choice of the year david caruso take matters into their own hands the film is notable in that it takes this very simple story line and creates complex and intelligent character driven vehicle filled with well written dialogue shades of motivation and convincing acting by all the actors the script is based on both book the long march to freedom and magazine article pertaining to kidnap ransom situations and the story has been sharply pieced together by tony gilroy screenwriter of the devil advocate and dolores claiborne the biggest surprise for me was not the chemistry between crowe and ryan but that between crowe and david caruso dug out from movie hell caruso pulls off gutsy performance as crowe right hand gun while providing most of the film humor ryan cries lot and smokes too many cigarettes david morse ends up getting everyone at the guerilla camp to hate him and crowe provides another memorable acting turn as the stoic gunslinger character of terry thorne the most memorable pieces of the film lie in its action scenes the bulk of those scenes which bookend the movie work extremely well as establishment and closure devices for all of the story characters the scenes are skillfully crafted and executed with amazing accuracy and poise director taylor hackford mixes both his old school style of filmmaking with the dizziness of lars von trier film proof of life is thinking man action movie it is film about the choices men and women make in the face of love and war and the sacrifices one makes for those choices the sacrifices that help you sleep at night \n",
            "quaid stars as man who has taken up the proffesion of dragonslayer after he feels he is betrayed by dragon early in the movie he runs into the last dragon in existence and there is genuinely amusing battle between the two which results in standoff where quaid is in the dragons mouth but has his sword pointed at the dragons brain eventually they decide to call truce and they work out deal since he is the last dragon he will pretend to die and quaid will be able to get paid for it their scam works at first until they come to town without any money instead the town sacrifices girl to the dragon but of course draco is nice droagon so he won eat her there is however very amusing scene where draco is hitting on the young girl of course as you can probably tell by the plot this is silly movie but it does know when to take itself seriously at the right times unlike eddie which was serious all the time you could probably call this medieval comedy because there are more laughs here than in eddie and spy hard combined dennis quaid makes fine hero pete posthlewaite provides some ghreat comedy as monk who journeys with them dina meyer is appealing as the sacrificed girl but lets face it the movie is really about the dragon and what an amazing creation he is connery voice and ilm team up to provide us with truly magnificent dragon so if you are going to see this movie for strong hard core medieval epic you are going to the wrong movie if you are going because of the dragon you will not be dissapointed and you will be provided with plenty of laughs that smooth out the boring parts in the script \n",
            "we could paraphrase michelle pfieffer character in dangerous minds and say that beyond rangoon starts with an that fair enough all movies like all school children should be given the benefit of the doubt the chance to succeed after all we like to think that the right combination of talent and effort can do wonders mountains can be moved and good movies can be made yeah right children fail as do films as does director john boorman latest the success of beyond rangoon hinges on the believability of patricia arquette ed wood true romance as the busty westerner in peril wandering about 1988 burma without passport though we can stomach the mild plot contrivances that get her there it a tougher task to overlook the actress she a lightweight as the first scene with narration demonstrates she doesn have nearly enough range for the emotions that her character mother fleeing the memories of murdered husband and son is supposed to show she may give stronger performance than say keanu reeves in walk in the clouds by not by much beyond rangoon is very physically appealing film thanks to the practiced craftsmanship of john boorman deliverance excalibur hope and glory he keeps the narrative moving no matter how muddy the story or the heroine gets why he chose arquette remains mystery though maybe he was thinking that the dramatic weight of the story would overcome any casting deficiencies but even after an hour of half stated political statements and murky mass killings we still don know enough of what happening in this country to feel distressed for the characters or their situations empty exoticism the technical credits in beyond rangoon are curious mix combining lush jungle photography with bad blue screen work also odd is the obvious dubbing done to make some of the foreign characters sound less foreign and is it my mistake or do the same extras keep reappearing as different soldiers doo doo doo doo twilight zone theme or opinion of movie you be the judge \n",
            "kolya is one of the richest films ve seen in some time zdenek sverak plays confirmed old bachelor who likely to remain so who finds his life as czech cellist increasingly impacted by the five year old boy that he taking care of though it ends rather abruptly and m whining cause wanted to spend more time with these characters the acting writing and production values are as high as if not higher than comparable american dramas this father and son delight sverak also wrote the script while his son jan directed won golden globe for best foreign language film and couple days after saw it walked away an oscar in czech and russian with english subtitles \n",
            "i don know how many other people have had the idea cross their mind that their life could be an ongoing television show watched by another world of people but it something used to wonder about when was younger can decide if first thought it because watched lot of tv or because my brother hit me in the head with baseball bat but m pretty sure andrew niccol screenwriter for the truman show has had the same curious thought the truman show is about man jim carrey whose entire life has been engineered by corporation and marketed to the public since birth he been living in the fictional island town of seahaven fla which actually exists as giant domed set just beyond the hollywood sign all the people in truman burbank life are actors and the anonymous townfolk paid extras people watch truman life 24 hours day live with no commercial interruptions revenue comes instead from product placement staple of contemporary hollywood with truman friends and relatives describing their consumer items in cheerful and optimistic tones the sun rises and sets on cue and everyone likes everyone else even if you haven seen the truman show you ve probably learned most of the crucial details from the commercials the trailer and other promotion blitzes if anything ve written so far is surprise to you then pity you for making me primary source for your entertainment news either way you should probably know the premise of the truman show going into it because otherwise you ll probably think it sucks it begins with jim carrey looking into mirror reciting the crucial eat me scene from alive wishing his neighbors good day afternoon and evening and living in domestic bliss with his wife laura linney but weird things start happening stage light comes falling out of the sky truman hears people tracking his movements on the radio and he swears he sees his dead father we learn through flashback that his father drowned when truman was child sailing through rainstorm the death was staged by director christof ed harris who wanted to put fear of water into truman to keep him from leaving the island similar cruel manipulations keep him from stumbling upon the truth not the least of them truman best friend marlon noah emmerich who assures him he not in on any conspiracy because the last thing he ever do is hurt him as truman trusting eyes tear over christof fades up emotional synthesizer music for worldwide audience of people who apparently never watch anything else there even daily behind the scenes update from harry shearer that captures the highlights of truman existence the key to movie like this is in finding the right balance between humor and drama because premise like this has its obvious implications in both directions and it all hinges on carrey who has to balance comic naivet with real sense of longing and drive to find out what the hell is going on he come long way from talking butt cheeks in ace ventura most fundamentally it just plain interesting to follow along as director peter weir shows us just how they can capture person life without the person realizing it how they coordinate extras hide cameras and feed automatic lines to actors the most interesting thing about the truman show is that most of us can probably imagine some ambitious director pitching show like this sure the most interesting tv genre of the 90s has been reality programming and jerry springer popularity is through the roof but those people deserve to be humiliated for turning their intimate details over to the airwaves and when news shows use hidden cameras it done in the name of the greater good not entertainment but merge the two and you ve got the truman show right now it implausible mean the fcc won let you say the word on the air do you think they let you broadcast every detail of man life to the entire world without his consent one day though it could happen and even though it would mean the end of privacy people would eat it up you know they would \n",
            "capsule trippy hyperspeed action machine from hong kong accomplished tsui hark van damme and rodman have nice chemistry the stunts are eyepopping and stuff gets blowed up real good what more do you want admit was all set to loathe double team it reeked of cheapjack timing oriented marketing stick dennis rodman in movie quick while he hot and do something about jean claude van damme flagging career while we re at it surprise double team transcends its dumb roots and turns out to be mess of fun bring some friends get some pretzels and have blast van damme is jack quinn an ex agent who is brought back in for one last mission you think any spy worth his shoe phone would run like hell when he hears those words but van damme character has pregnant wife who also sculptor and some unpleasant pressure gets used to get him to come through on this mission he been assigned to take down an old enemy terrorist named stavros mickey rourke looking oddly subdued who may be back up to his old tricks in the first showdown between quinn and stavros the movie wears its ambitions proudly on its sleeve nonstop action an amusement park hospital private retired spy retreat most of rome various houses planes cars and other modes of transport and the coliseum all become arenas for some of the most bone rattling shoot outs and punch outs filmed they are better seen than described and are reason enough to see the film one jaw dropping scene has van damme taking on man who uses switchblade with his feet van damme is good dextrous athlete and fighter but he is often upstaged there are other nice touches stavros and quinn both want the same thing to retire in peace with their families that ambition ties them together in various ways and also humanizes them bit one of the things about hk action movies is that there always some form of human element and that carried over into this movie as well it gives weight to scenes that would otherwise be forgettable also good is dennis rodman playing weapons dealer named yaz character who sticks out like fistful of broken fingers and who is funny just standing there rodman is natural on screen he fun to watch especially when slinging bad guys like basketballs and deserves to get movie of his own based on what seen here lightweight fast moving entertainment that showcases all of its pieces excellently \n",
            "gothic murder mystery yarns are not new conceit in fact they ve been around in books and on film for many many years without the proper handling they come off as old fashioned bland and outdated the gift directed by sam raimi is tried and true effort that surprises very little and includes everything from wide array of suspects and red herrings to mansions in the deep south with moss trees out front to the eventual discovery of waterlogged corpse found in nearby pond it fairly obvious who the killer is in fact predicted who it would be before the movie began and was correct in my preliminary suspicions the film ultimately shouldn work but it does thanks to sparkling cast that fills each character with so many memorable nuances the most fun to be had is in simply watching the people interact with each other annie wilson cate blanchett is recently widowed mother of three sons who makes her living giving psychic readings to the residents of her backwater southern hometown some of her mainstay clients include valerie barksdale hilary swank who is severely abused by her husband donnie keanu reeves and buddy cole giovanni ribisi an unstable mechanic who is confused by the nightmares he been having about mysterious blue diamond that is somehow linked to his father for annie she does not give the readings merely for money but uses it as way of seeking solace in finding the good in everyone future her late grandmother rosemary harris told her as child that it was gift she was given and she should always remember that when annie eldest son is involved in fight at school she meets the nice guy school principal wayne collins greg kinnear whom she finds herself attracted to but wayne is engaged to the wealthy jessica king katie holmes whom annie immediately gets negative vibe about at party with her best friend linda kim dickens annie stumbles upon jessica in compromising position with lawyer david duncan gary cole soon after jessica has disappeared leaving everyone in frenzy over what could have possibly happened to her and annie starts to have nightmares and apparitions linking jessica with the vicious redneck donnie barksdale and the pond behind his home the gift may be cliched on sheer storytelling level but the performances and tight direction from raimi who has redeemed himself for his embarrassing last film 1999 for love of the game lift the picture up several notches slowly enveloping the viewer into the many intriguing characters and their individual plights the disappearance of jessica at the 30 minute mark divulges the movie true intentions and transforms the proceedings into taut at times frightening horror mystery at the center of the film is the exceptional cate blanchett 1999 the talented mr ripley who turns annie wilson from what could have been little more than run of the mill protagonist into very exact down to earth realistic person with valid troubles and caring attitude towards those around her blanchett takes the unextraordinary material and runs with it giving the entire film truly classy aura that it otherwise might not have had we follow her at every turn because she is so mesmerizing both as character and an actress blanchett isn the only bright performer as she is ably supported by one of the best casts of the year in her first role following her oscar win for 1999 boys don cry hilary swank is excellent as the confused valerie who seeks guidance from annie but is too scared to take her biggest advice of all to leave the grossly abusive donnie as donnie keanu reeves 2000 the watcher makes an utterly convincing backwoods meanie so much so that it is difficult to believe he is an actor at all for the often criticized reeves whose acting abilities have never been the best this is the biggest compliment he could possibly get and it is also one of the better performances he has given giovanni ribisi 2000 the boiler room is heartbreaking as mentally slow young man who sees annie as his only friend and wants her to do nothing but help him understand why he is being plagued by bad dreams about his dad in the small but pivotal role of the sleazy jessica king katie holmes 2000 wonder boys has turned in yet another stunning supporting turn her promiscuous role of jessica is one she has never played before and she is radiant in her few scenes finally kim dickens 2000 hollow man makes her usual strong impression as annie spicy best friend linda the other notable aspect of the gift is its moody atmosphere that lays such thickly foreboding air over every scene it almost suffocating thanks to cleverly construed editing by arthur coburn and bob murawski and the successful use of different eerie sounds effects and very good music score by christopher young the movie not only achieves scary undercurrent but one that is filled with dread helped along by strong screenplay by billy bob thornton and tom epperson which makes the most of its setting and delightful cast the gift is that rarest of thrillers that actually thrills and offers up fair share of chills too it may not be groundbreakingly original but it sure is an entertaining ride for the duration of its running time \n",
            "what look for in movie is not necessarily perfection sometimes movie has such strong ideas that despite whatever flaws it may have will prefer it to better made film that is not as thought provoking the thin red line is flawed but it provokes terence malick returns to filmmaking 20 years after days of heaven and produces this meditative look at war unlike this year saving private ryan which dwells on war as necessary evil and explores the moral ambiguities thereof the thin red line simply says war is waste while that might seem obvious to some only after experiencing the film do you realize how profound waste it is saving private ryan has an underlying and practical acceptance that war will occur and it has great cost the thin red line says idealistically avoid this at all costs one message is not necessarily more correct than the other it just depends on one point of view in malick film war is set in tropical paradise and john toll cinematography is beyond lush the setting poses the question why are we fighting in the face of such beauty in saving private ryan the capture of german soldier presents the moral quandary of whether to let him go in the thin red line the japanese present the moral quandary of war in the first place they are just like the americans frightened and angry grieving and praying all that separates them is war the flaw in the thin red line comes in the voice overs unbelievable as coming from the characters and sometimes pretentious sometimes corny the voice overs tell us what the images before us already do and are completely unnecessary dispensing with them malick could have achieved tarkovskian grandeur instead he gets distracting self consciousness aside from that malick direction is stunning the tracking shots across windswept hills and around transports speeding toward shore are extraordinary sean penn elias koteas and nick nolte give the best performances penn is subtle as sergeant trying to hide his humanism koteas is genuine as compassionate captain and nolte startling as colonel whose blood vessels are about to burst if he cannot win his battle john travolta and george clooney are the worst in cameo roles ultimately however the thin red line interest is not in the characters and it is not in drama it has been frequently criticized for its lack of dramatic structure but malick clearly has different things on his mind has no one ever thought that getting dramatic entertainment from war is exploitative what malick is working with is theme and in that the thin red line is most provoking \n",
            "the law of crowd pleasing romantic movies states that the two leads must end up together by film end if you re not familiar with this law then maybe you ve seen the trailer for this film which shows that the two leads are together by film end now if you re regular reader of mine you ve heard me say this countless times you know how drive me crazy is going to end but is the journey to get to that ending worth it no it definitely is not melissa joan hart from abc sabrina the teenage witch likes hunky stud on the basketball team adrien grenier is her grungy neighbor who just broken up with his activist girlfriend apparently he wants to make his ex girlfriend jealous enough to take him back and she wants someone to take her to the big year end dance so the two pretend to date for some reason but only after hart gives grenier bath to turn him into hunky stud will grenier like his new popularity and turn on his friends will this crazy scheme work do care the teen comedy resurgence of late has been surprisingly good in terms of comedy what makes movies like can hardly wait and 10 things hate about you work and to lesser extent she all that and never been kissed is because the writers of those films seem to realize that high school is joke and write their scripts accordingly don know what the writer intention was with drive me crazy there was some smart comedy in those films to make the obvious endings worth getting to here there nothing just teens whining about who going to take them to the big dance do me favor kids go get job or something just shut the hell up in all honesty the best part of this film is the end credits now normally when say that it followed with the joke because the movie is finally over in this case though the end credits really are the most entertaining part of the film after the obligatory second playing of britney spears titular song there a quick commercial jingle for burger joint the kids in the film hang out in and brief rendition of the school song for their high school nothing great but more entertaining than anything in the 90 minutes which preceded them sci fi fans take note there are brief appearances from stephen collins star trek the motion picture and faye grant the tv miniseries and the final battle pg 13 \n"
          ]
        }
      ]
    },
    {
      "cell_type": "code",
      "metadata": {
        "colab": {
          "base_uri": "https://localhost:8080/"
        },
        "id": "A8kDz89a3698",
        "outputId": "4ac6b5f6-154d-42a2-ece3-0fff37104d99"
      },
      "source": [
        "#Descargamos estas utilidades para el siguiente paso\n",
        "nltk.download('punkt')\n",
        "nltk.download('stopwords')"
      ],
      "execution_count": 14,
      "outputs": [
        {
          "output_type": "stream",
          "name": "stdout",
          "text": [
            "[nltk_data] Downloading package punkt to /root/nltk_data...\n",
            "[nltk_data]   Package punkt is already up-to-date!\n",
            "[nltk_data] Downloading package stopwords to /root/nltk_data...\n",
            "[nltk_data]   Package stopwords is already up-to-date!\n"
          ]
        },
        {
          "output_type": "execute_result",
          "data": {
            "text/plain": [
              "True"
            ]
          },
          "metadata": {},
          "execution_count": 14
        }
      ]
    },
    {
      "cell_type": "code",
      "metadata": {
        "id": "n2urv5Cm4Lh0"
      },
      "source": [
        "#2. Crear un corpus de palabras (tokenizar los documentos)\n",
        "corpusWords=[]\n",
        "for review in corpus:\n",
        "  words = nltk.word_tokenize(review)\n",
        "  words = [x for x in words if x not in nltk.corpus.stopwords.words('english')]\n",
        "  words = [x for x in words if len(x) > 2]\n",
        "  corpusWords.append(words)"
      ],
      "execution_count": 15,
      "outputs": []
    },
    {
      "cell_type": "code",
      "metadata": {
        "colab": {
          "base_uri": "https://localhost:8080/"
        },
        "id": "Ph1ic3z95tEs",
        "outputId": "fadf99ca-b0f4-4408-cc03-a1d24ea02111"
      },
      "source": [
        "# Visualizamos el corpus de palabras\n",
        "n = 10\n",
        "for i in range(n):\n",
        "  print(corpusWords[i])"
      ],
      "execution_count": 16,
      "outputs": [
        {
          "output_type": "stream",
          "name": "stdout",
          "text": [
            "['arnold', 'schwarzenegger', 'icon', 'action', 'enthusiasts', 'since', 'late', 'lately', 'films', 'sloppy', 'one', 'liners', 'getting', 'worse', 'hard', 'seeing', 'arnold', 'freeze', 'batman', 'robin', 'especially', 'says', 'tons', 'ice', 'jokes', 'hey', 'got', 'million', 'matter', 'arnold', 'signed', 'another', 'expensive', 'blockbuster', 'compare', 'likes', 'terminator', 'series', 'true', 'lies', 'even', 'eraser', 'called', 'dark', 'thriller', 'devil', 'gabriel', 'byrne', 'come', 'upon', 'earth', 'impregnate', 'woman', 'robin', 'tunney', 'happens', 'every', '1000', 'years', 'basically', 'destroy', 'world', 'apparently', 'god', 'chosen', 'one', 'man', 'one', 'man', 'jericho', 'cane', 'arnold', 'help', 'trusty', 'sidekick', 'kevin', 'pollack', 'stop', 'nothing', 'let', 'devil', 'take', 'world', 'parts', 'actually', 'absurd', 'would', 'fit', 'right', 'dogma', 'yes', 'film', 'weak', 'better', 'blockbuster', 'right', 'sleepy', 'hollow', 'makes', 'world', 'enough', 'look', 'like', 'star', 'film', 'anyway', 'definitely', 'seem', 'like', 'arnold', 'movie', 'type', 'film', 'see', 'sure', 'gave', 'chuckles', 'well', 'known', 'one', 'liners', 'seemed', 'confused', 'character', 'film', 'going', 'understandable', 'especially', 'ending', 'changed', 'according', 'sources', 'aside', 'form', 'still', 'walked', 'much', 'like', 'past', 'films', 'sorry', 'say', 'arnold', 'maybe', 'end', 'action', 'days', 'speaking', 'action', 'film', 'hardly', 'explosions', 'fights', 'devil', 'made', 'places', 'explode', 'arnold', 'kicking', 'devil', 'butt', 'ending', 'changed', 'make', 'spiritual', 'undoubtedly', 'ruined', 'film', 'least', 'hoping', 'cool', 'ending', 'nothing', 'else', 'occurred', 'let', 'also', 'know', 'film', 'took', 'long', 'cost', 'much', 'really', 'super', 'affects', 'unless', 'consider', 'invisible', 'devil', 'minutes', 'tops', 'worth', 'overpriced', 'budget', 'budget', 'gone', 'better', 'script', 'least', 'audiences', 'could', 'somewhat', 'entertained', 'instead', 'facing', 'boredom', 'pitiful', 'see', 'scripts', 'like', 'get', 'bought', 'made', 'movie', 'even', 'read', 'things', 'anymore', 'sure', 'seem', 'like', 'thankfully', 'gabriel', 'performance', 'gave', 'light', 'poor', 'film', 'walks', 'street', 'searching', 'robin', 'tunney', 'help', 'feel', 'looked', 'like', 'devil', 'guy', 'creepy', 'looking', 'anyway', 'glad', 'end', 'movie', 'bother', 'see', 'expecting', 'solid', 'action', 'flick', 'neither', 'solid', 'action', 'another', 'movie', 'suckered', 'seeing', 'due', 'strategic', 'marketing', 'campaign', 'save', 'money', 'see', 'world', 'enough', 'entertaining', 'experience']\n",
            "['good', 'films', 'hard', 'find', 'days', 'great', 'films', 'beyond', 'rare', 'proof', 'life', 'russell', 'crowe', 'one', 'two', 'punch', 'deft', 'kidnap', 'rescue', 'thriller', 'one', 'rare', 'gems', 'taut', 'drama', 'laced', 'strong', 'subtle', 'acting', 'intelligent', 'script', 'masterful', 'directing', 'together', 'delivers', 'something', 'virtually', 'unheard', 'film', 'industry', 'days', 'genuine', 'motivation', 'story', 'rings', 'true', 'consider', 'strange', 'coincidence', 'russell', 'crowe', 'character', 'proof', 'life', 'making', 'moves', 'distraught', 'wife', 'played', 'meg', 'ryan', 'character', 'film', 'real', 'russell', 'crowe', 'hitching', 'married', 'woman', 'meg', 'ryan', 'outside', 'world', 'seen', 'much', 'chemistry', 'actors', 'since', 'mcqueen', 'mcgraw', 'teamed', 'peckinpah', 'masterpiece', 'getaway', 'enough', 'gossip', 'let', 'get', 'review', 'film', 'revolves', 'around', 'kidnapping', 'peter', 'bowman', 'david', 'morse', 'american', 'engineer', 'working', 'south', 'america', 'kidnapped', 'mass', 'ambush', 'civilians', 'anti', 'government', 'soldiers', 'upon', 'discovering', 'identity', 'rebel', 'soldiers', 'decide', 'ransom', 'million', 'problem', 'company', 'peter', 'bowman', 'works', 'auctioned', 'one', 'step', 'forward', 'money', 'choice', 'available', 'bowman', 'wife', 'alice', 'ryan', 'hires', 'terry', 'thorne', 'crowe', 'highly', 'skilled', 'negotiator', 'rescue', 'operative', 'arrange', 'return', 'husband', 'things', 'wrong', 'always', 'situations', 'terry', 'team', 'includes', 'surprising', 'casting', 'choice', 'year', 'david', 'caruso', 'take', 'matters', 'hands', 'film', 'notable', 'takes', 'simple', 'story', 'line', 'creates', 'complex', 'intelligent', 'character', 'driven', 'vehicle', 'filled', 'well', 'written', 'dialogue', 'shades', 'motivation', 'convincing', 'acting', 'actors', 'script', 'based', 'book', 'long', 'march', 'freedom', 'magazine', 'article', 'pertaining', 'kidnap', 'ransom', 'situations', 'story', 'sharply', 'pieced', 'together', 'tony', 'gilroy', 'screenwriter', 'devil', 'advocate', 'dolores', 'claiborne', 'biggest', 'surprise', 'chemistry', 'crowe', 'ryan', 'crowe', 'david', 'caruso', 'dug', 'movie', 'hell', 'caruso', 'pulls', 'gutsy', 'performance', 'crowe', 'right', 'hand', 'gun', 'providing', 'film', 'humor', 'ryan', 'cries', 'lot', 'smokes', 'many', 'cigarettes', 'david', 'morse', 'ends', 'getting', 'everyone', 'guerilla', 'camp', 'hate', 'crowe', 'provides', 'another', 'memorable', 'acting', 'turn', 'stoic', 'gunslinger', 'character', 'terry', 'thorne', 'memorable', 'pieces', 'film', 'lie', 'action', 'scenes', 'bulk', 'scenes', 'bookend', 'movie', 'work', 'extremely', 'well', 'establishment', 'closure', 'devices', 'story', 'characters', 'scenes', 'skillfully', 'crafted', 'executed', 'amazing', 'accuracy', 'poise', 'director', 'taylor', 'hackford', 'mixes', 'old', 'school', 'style', 'filmmaking', 'dizziness', 'lars', 'von', 'trier', 'film', 'proof', 'life', 'thinking', 'man', 'action', 'movie', 'film', 'choices', 'men', 'women', 'make', 'face', 'love', 'war', 'sacrifices', 'one', 'makes', 'choices', 'sacrifices', 'help', 'sleep', 'night']\n",
            "['quaid', 'stars', 'man', 'taken', 'proffesion', 'dragonslayer', 'feels', 'betrayed', 'dragon', 'early', 'movie', 'runs', 'last', 'dragon', 'existence', 'genuinely', 'amusing', 'battle', 'two', 'results', 'standoff', 'quaid', 'dragons', 'mouth', 'sword', 'pointed', 'dragons', 'brain', 'eventually', 'decide', 'call', 'truce', 'work', 'deal', 'since', 'last', 'dragon', 'pretend', 'die', 'quaid', 'able', 'get', 'paid', 'scam', 'works', 'first', 'come', 'town', 'without', 'money', 'instead', 'town', 'sacrifices', 'girl', 'dragon', 'course', 'draco', 'nice', 'droagon', 'eat', 'however', 'amusing', 'scene', 'draco', 'hitting', 'young', 'girl', 'course', 'probably', 'tell', 'plot', 'silly', 'movie', 'know', 'take', 'seriously', 'right', 'times', 'unlike', 'eddie', 'serious', 'time', 'could', 'probably', 'call', 'medieval', 'comedy', 'laughs', 'eddie', 'spy', 'hard', 'combined', 'dennis', 'quaid', 'makes', 'fine', 'hero', 'pete', 'posthlewaite', 'provides', 'ghreat', 'comedy', 'monk', 'journeys', 'dina', 'meyer', 'appealing', 'sacrificed', 'girl', 'lets', 'face', 'movie', 'really', 'dragon', 'amazing', 'creation', 'connery', 'voice', 'ilm', 'team', 'provide', 'truly', 'magnificent', 'dragon', 'going', 'see', 'movie', 'strong', 'hard', 'core', 'medieval', 'epic', 'going', 'wrong', 'movie', 'going', 'dragon', 'dissapointed', 'provided', 'plenty', 'laughs', 'smooth', 'boring', 'parts', 'script']\n",
            "['could', 'paraphrase', 'michelle', 'pfieffer', 'character', 'dangerous', 'minds', 'say', 'beyond', 'rangoon', 'starts', 'fair', 'enough', 'movies', 'like', 'school', 'children', 'given', 'benefit', 'doubt', 'chance', 'succeed', 'like', 'think', 'right', 'combination', 'talent', 'effort', 'wonders', 'mountains', 'moved', 'good', 'movies', 'made', 'yeah', 'right', 'children', 'fail', 'films', 'director', 'john', 'boorman', 'latest', 'success', 'beyond', 'rangoon', 'hinges', 'believability', 'patricia', 'arquette', 'wood', 'true', 'romance', 'busty', 'westerner', 'peril', 'wandering', '1988', 'burma', 'without', 'passport', 'though', 'stomach', 'mild', 'plot', 'contrivances', 'get', 'tougher', 'task', 'overlook', 'actress', 'lightweight', 'first', 'scene', 'narration', 'demonstrates', 'nearly', 'enough', 'range', 'emotions', 'character', 'mother', 'fleeing', 'memories', 'murdered', 'husband', 'son', 'supposed', 'show', 'may', 'give', 'stronger', 'performance', 'say', 'keanu', 'reeves', 'walk', 'clouds', 'much', 'beyond', 'rangoon', 'physically', 'appealing', 'film', 'thanks', 'practiced', 'craftsmanship', 'john', 'boorman', 'deliverance', 'excalibur', 'hope', 'glory', 'keeps', 'narrative', 'moving', 'matter', 'muddy', 'story', 'heroine', 'gets', 'chose', 'arquette', 'remains', 'mystery', 'though', 'maybe', 'thinking', 'dramatic', 'weight', 'story', 'would', 'overcome', 'casting', 'deficiencies', 'even', 'hour', 'half', 'stated', 'political', 'statements', 'murky', 'mass', 'killings', 'still', 'know', 'enough', 'happening', 'country', 'feel', 'distressed', 'characters', 'situations', 'empty', 'exoticism', 'technical', 'credits', 'beyond', 'rangoon', 'curious', 'mix', 'combining', 'lush', 'jungle', 'photography', 'bad', 'blue', 'screen', 'work', 'also', 'odd', 'obvious', 'dubbing', 'done', 'make', 'foreign', 'characters', 'sound', 'less', 'foreign', 'mistake', 'extras', 'keep', 'reappearing', 'different', 'soldiers', 'doo', 'doo', 'doo', 'doo', 'twilight', 'zone', 'theme', 'opinion', 'movie', 'judge']\n",
            "['kolya', 'one', 'richest', 'films', 'seen', 'time', 'zdenek', 'sverak', 'plays', 'confirmed', 'old', 'bachelor', 'likely', 'remain', 'finds', 'life', 'czech', 'cellist', 'increasingly', 'impacted', 'five', 'year', 'old', 'boy', 'taking', 'care', 'though', 'ends', 'rather', 'abruptly', 'whining', 'cause', 'wanted', 'spend', 'time', 'characters', 'acting', 'writing', 'production', 'values', 'high', 'higher', 'comparable', 'american', 'dramas', 'father', 'son', 'delight', 'sverak', 'also', 'wrote', 'script', 'son', 'jan', 'directed', 'golden', 'globe', 'best', 'foreign', 'language', 'film', 'couple', 'days', 'saw', 'walked', 'away', 'oscar', 'czech', 'russian', 'english', 'subtitles']\n",
            "['know', 'many', 'people', 'idea', 'cross', 'mind', 'life', 'could', 'ongoing', 'television', 'show', 'watched', 'another', 'world', 'people', 'something', 'used', 'wonder', 'younger', 'decide', 'first', 'thought', 'watched', 'lot', 'brother', 'hit', 'head', 'baseball', 'bat', 'pretty', 'sure', 'andrew', 'niccol', 'screenwriter', 'truman', 'show', 'curious', 'thought', 'truman', 'show', 'man', 'jim', 'carrey', 'whose', 'entire', 'life', 'engineered', 'corporation', 'marketed', 'public', 'since', 'birth', 'living', 'fictional', 'island', 'town', 'seahaven', 'fla', 'actually', 'exists', 'giant', 'domed', 'set', 'beyond', 'hollywood', 'sign', 'people', 'truman', 'burbank', 'life', 'actors', 'anonymous', 'townfolk', 'paid', 'extras', 'people', 'watch', 'truman', 'life', 'hours', 'day', 'live', 'commercial', 'interruptions', 'revenue', 'comes', 'instead', 'product', 'placement', 'staple', 'contemporary', 'hollywood', 'truman', 'friends', 'relatives', 'describing', 'consumer', 'items', 'cheerful', 'optimistic', 'tones', 'sun', 'rises', 'sets', 'cue', 'everyone', 'likes', 'everyone', 'else', 'even', 'seen', 'truman', 'show', 'probably', 'learned', 'crucial', 'details', 'commercials', 'trailer', 'promotion', 'blitzes', 'anything', 'written', 'far', 'surprise', 'pity', 'making', 'primary', 'source', 'entertainment', 'news', 'either', 'way', 'probably', 'know', 'premise', 'truman', 'show', 'going', 'otherwise', 'probably', 'think', 'sucks', 'begins', 'jim', 'carrey', 'looking', 'mirror', 'reciting', 'crucial', 'eat', 'scene', 'alive', 'wishing', 'neighbors', 'good', 'day', 'afternoon', 'evening', 'living', 'domestic', 'bliss', 'wife', 'laura', 'linney', 'weird', 'things', 'start', 'happening', 'stage', 'light', 'comes', 'falling', 'sky', 'truman', 'hears', 'people', 'tracking', 'movements', 'radio', 'swears', 'sees', 'dead', 'father', 'learn', 'flashback', 'father', 'drowned', 'truman', 'child', 'sailing', 'rainstorm', 'death', 'staged', 'director', 'christof', 'harris', 'wanted', 'put', 'fear', 'water', 'truman', 'keep', 'leaving', 'island', 'similar', 'cruel', 'manipulations', 'keep', 'stumbling', 'upon', 'truth', 'least', 'truman', 'best', 'friend', 'marlon', 'noah', 'emmerich', 'assures', 'conspiracy', 'last', 'thing', 'ever', 'hurt', 'truman', 'trusting', 'eyes', 'tear', 'christof', 'fades', 'emotional', 'synthesizer', 'music', 'worldwide', 'audience', 'people', 'apparently', 'never', 'watch', 'anything', 'else', 'even', 'daily', 'behind', 'scenes', 'update', 'harry', 'shearer', 'captures', 'highlights', 'truman', 'existence', 'key', 'movie', 'like', 'finding', 'right', 'balance', 'humor', 'drama', 'premise', 'like', 'obvious', 'implications', 'directions', 'hinges', 'carrey', 'balance', 'comic', 'naivet', 'real', 'sense', 'longing', 'drive', 'find', 'hell', 'going', 'come', 'long', 'way', 'talking', 'butt', 'cheeks', 'ace', 'ventura', 'fundamentally', 'plain', 'interesting', 'follow', 'along', 'director', 'peter', 'weir', 'shows', 'capture', 'person', 'life', 'without', 'person', 'realizing', 'coordinate', 'extras', 'hide', 'cameras', 'feed', 'automatic', 'lines', 'actors', 'interesting', 'thing', 'truman', 'show', 'probably', 'imagine', 'ambitious', 'director', 'pitching', 'show', 'like', 'sure', 'interesting', 'genre', '90s', 'reality', 'programming', 'jerry', 'springer', 'popularity', 'roof', 'people', 'deserve', 'humiliated', 'turning', 'intimate', 'details', 'airwaves', 'news', 'shows', 'use', 'hidden', 'cameras', 'done', 'name', 'greater', 'good', 'entertainment', 'merge', 'two', 'got', 'truman', 'show', 'right', 'implausible', 'mean', 'fcc', 'let', 'say', 'word', 'air', 'think', 'let', 'broadcast', 'every', 'detail', 'man', 'life', 'entire', 'world', 'without', 'consent', 'one', 'day', 'though', 'could', 'happen', 'even', 'though', 'would', 'mean', 'end', 'privacy', 'people', 'would', 'eat', 'know', 'would']\n",
            "['capsule', 'trippy', 'hyperspeed', 'action', 'machine', 'hong', 'kong', 'accomplished', 'tsui', 'hark', 'van', 'damme', 'rodman', 'nice', 'chemistry', 'stunts', 'eyepopping', 'stuff', 'gets', 'blowed', 'real', 'good', 'want', 'admit', 'set', 'loathe', 'double', 'team', 'reeked', 'cheapjack', 'timing', 'oriented', 'marketing', 'stick', 'dennis', 'rodman', 'movie', 'quick', 'hot', 'something', 'jean', 'claude', 'van', 'damme', 'flagging', 'career', 'surprise', 'double', 'team', 'transcends', 'dumb', 'roots', 'turns', 'mess', 'fun', 'bring', 'friends', 'get', 'pretzels', 'blast', 'van', 'damme', 'jack', 'quinn', 'agent', 'brought', 'back', 'one', 'last', 'mission', 'think', 'spy', 'worth', 'shoe', 'phone', 'would', 'run', 'like', 'hell', 'hears', 'words', 'van', 'damme', 'character', 'pregnant', 'wife', 'also', 'sculptor', 'unpleasant', 'pressure', 'gets', 'used', 'get', 'come', 'mission', 'assigned', 'take', 'old', 'enemy', 'terrorist', 'named', 'stavros', 'mickey', 'rourke', 'looking', 'oddly', 'subdued', 'may', 'back', 'old', 'tricks', 'first', 'showdown', 'quinn', 'stavros', 'movie', 'wears', 'ambitions', 'proudly', 'sleeve', 'nonstop', 'action', 'amusement', 'park', 'hospital', 'private', 'retired', 'spy', 'retreat', 'rome', 'various', 'houses', 'planes', 'cars', 'modes', 'transport', 'coliseum', 'become', 'arenas', 'bone', 'rattling', 'shoot', 'outs', 'punch', 'outs', 'filmed', 'better', 'seen', 'described', 'reason', 'enough', 'see', 'film', 'one', 'jaw', 'dropping', 'scene', 'van', 'damme', 'taking', 'man', 'uses', 'switchblade', 'feet', 'van', 'damme', 'good', 'dextrous', 'athlete', 'fighter', 'often', 'upstaged', 'nice', 'touches', 'stavros', 'quinn', 'want', 'thing', 'retire', 'peace', 'families', 'ambition', 'ties', 'together', 'various', 'ways', 'also', 'humanizes', 'bit', 'one', 'things', 'action', 'movies', 'always', 'form', 'human', 'element', 'carried', 'movie', 'well', 'gives', 'weight', 'scenes', 'would', 'otherwise', 'forgettable', 'also', 'good', 'dennis', 'rodman', 'playing', 'weapons', 'dealer', 'named', 'yaz', 'character', 'sticks', 'like', 'fistful', 'broken', 'fingers', 'funny', 'standing', 'rodman', 'natural', 'screen', 'fun', 'watch', 'especially', 'slinging', 'bad', 'guys', 'like', 'basketballs', 'deserves', 'get', 'movie', 'based', 'seen', 'lightweight', 'fast', 'moving', 'entertainment', 'showcases', 'pieces', 'excellently']\n",
            "['gothic', 'murder', 'mystery', 'yarns', 'new', 'conceit', 'fact', 'around', 'books', 'film', 'many', 'many', 'years', 'without', 'proper', 'handling', 'come', 'old', 'fashioned', 'bland', 'outdated', 'gift', 'directed', 'sam', 'raimi', 'tried', 'true', 'effort', 'surprises', 'little', 'includes', 'everything', 'wide', 'array', 'suspects', 'red', 'herrings', 'mansions', 'deep', 'south', 'moss', 'trees', 'front', 'eventual', 'discovery', 'waterlogged', 'corpse', 'found', 'nearby', 'pond', 'fairly', 'obvious', 'killer', 'fact', 'predicted', 'would', 'movie', 'began', 'correct', 'preliminary', 'suspicions', 'film', 'ultimately', 'work', 'thanks', 'sparkling', 'cast', 'fills', 'character', 'many', 'memorable', 'nuances', 'fun', 'simply', 'watching', 'people', 'interact', 'annie', 'wilson', 'cate', 'blanchett', 'recently', 'widowed', 'mother', 'three', 'sons', 'makes', 'living', 'giving', 'psychic', 'readings', 'residents', 'backwater', 'southern', 'hometown', 'mainstay', 'clients', 'include', 'valerie', 'barksdale', 'hilary', 'swank', 'severely', 'abused', 'husband', 'donnie', 'keanu', 'reeves', 'buddy', 'cole', 'giovanni', 'ribisi', 'unstable', 'mechanic', 'confused', 'nightmares', 'mysterious', 'blue', 'diamond', 'somehow', 'linked', 'father', 'annie', 'give', 'readings', 'merely', 'money', 'uses', 'way', 'seeking', 'solace', 'finding', 'good', 'everyone', 'future', 'late', 'grandmother', 'rosemary', 'harris', 'told', 'child', 'gift', 'given', 'always', 'remember', 'annie', 'eldest', 'son', 'involved', 'fight', 'school', 'meets', 'nice', 'guy', 'school', 'principal', 'wayne', 'collins', 'greg', 'kinnear', 'finds', 'attracted', 'wayne', 'engaged', 'wealthy', 'jessica', 'king', 'katie', 'holmes', 'annie', 'immediately', 'gets', 'negative', 'vibe', 'party', 'best', 'friend', 'linda', 'kim', 'dickens', 'annie', 'stumbles', 'upon', 'jessica', 'compromising', 'position', 'lawyer', 'david', 'duncan', 'gary', 'cole', 'soon', 'jessica', 'disappeared', 'leaving', 'everyone', 'frenzy', 'could', 'possibly', 'happened', 'annie', 'starts', 'nightmares', 'apparitions', 'linking', 'jessica', 'vicious', 'redneck', 'donnie', 'barksdale', 'pond', 'behind', 'home', 'gift', 'may', 'cliched', 'sheer', 'storytelling', 'level', 'performances', 'tight', 'direction', 'raimi', 'redeemed', 'embarrassing', 'last', 'film', '1999', 'love', 'game', 'lift', 'picture', 'several', 'notches', 'slowly', 'enveloping', 'viewer', 'many', 'intriguing', 'characters', 'individual', 'plights', 'disappearance', 'jessica', 'minute', 'mark', 'divulges', 'movie', 'true', 'intentions', 'transforms', 'proceedings', 'taut', 'times', 'frightening', 'horror', 'mystery', 'center', 'film', 'exceptional', 'cate', 'blanchett', '1999', 'talented', 'ripley', 'turns', 'annie', 'wilson', 'could', 'little', 'run', 'mill', 'protagonist', 'exact', 'earth', 'realistic', 'person', 'valid', 'troubles', 'caring', 'attitude', 'towards', 'around', 'blanchett', 'takes', 'unextraordinary', 'material', 'runs', 'giving', 'entire', 'film', 'truly', 'classy', 'aura', 'otherwise', 'might', 'follow', 'every', 'turn', 'mesmerizing', 'character', 'actress', 'blanchett', 'bright', 'performer', 'ably', 'supported', 'one', 'best', 'casts', 'year', 'first', 'role', 'following', 'oscar', 'win', '1999', 'boys', 'cry', 'hilary', 'swank', 'excellent', 'confused', 'valerie', 'seeks', 'guidance', 'annie', 'scared', 'take', 'biggest', 'advice', 'leave', 'grossly', 'abusive', 'donnie', 'donnie', 'keanu', 'reeves', '2000', 'watcher', 'makes', 'utterly', 'convincing', 'backwoods', 'meanie', 'much', 'difficult', 'believe', 'actor', 'often', 'criticized', 'reeves', 'whose', 'acting', 'abilities', 'never', 'best', 'biggest', 'compliment', 'could', 'possibly', 'get', 'also', 'one', 'better', 'performances', 'given', 'giovanni', 'ribisi', '2000', 'boiler', 'room', 'heartbreaking', 'mentally', 'slow', 'young', 'man', 'sees', 'annie', 'friend', 'wants', 'nothing', 'help', 'understand', 'plagued', 'bad', 'dreams', 'dad', 'small', 'pivotal', 'role', 'sleazy', 'jessica', 'king', 'katie', 'holmes', '2000', 'wonder', 'boys', 'turned', 'yet', 'another', 'stunning', 'supporting', 'turn', 'promiscuous', 'role', 'jessica', 'one', 'never', 'played', 'radiant', 'scenes', 'finally', 'kim', 'dickens', '2000', 'hollow', 'man', 'makes', 'usual', 'strong', 'impression', 'annie', 'spicy', 'best', 'friend', 'linda', 'notable', 'aspect', 'gift', 'moody', 'atmosphere', 'lays', 'thickly', 'foreboding', 'air', 'every', 'scene', 'almost', 'suffocating', 'thanks', 'cleverly', 'construed', 'editing', 'arthur', 'coburn', 'bob', 'murawski', 'successful', 'use', 'different', 'eerie', 'sounds', 'effects', 'good', 'music', 'score', 'christopher', 'young', 'movie', 'achieves', 'scary', 'undercurrent', 'one', 'filled', 'dread', 'helped', 'along', 'strong', 'screenplay', 'billy', 'bob', 'thornton', 'tom', 'epperson', 'makes', 'setting', 'delightful', 'cast', 'gift', 'rarest', 'thrillers', 'actually', 'thrills', 'offers', 'fair', 'share', 'chills', 'may', 'groundbreakingly', 'original', 'sure', 'entertaining', 'ride', 'duration', 'running', 'time']\n",
            "['look', 'movie', 'necessarily', 'perfection', 'sometimes', 'movie', 'strong', 'ideas', 'despite', 'whatever', 'flaws', 'may', 'prefer', 'better', 'made', 'film', 'thought', 'provoking', 'thin', 'red', 'line', 'flawed', 'provokes', 'terence', 'malick', 'returns', 'filmmaking', 'years', 'days', 'heaven', 'produces', 'meditative', 'look', 'war', 'unlike', 'year', 'saving', 'private', 'ryan', 'dwells', 'war', 'necessary', 'evil', 'explores', 'moral', 'ambiguities', 'thereof', 'thin', 'red', 'line', 'simply', 'says', 'war', 'waste', 'might', 'seem', 'obvious', 'experiencing', 'film', 'realize', 'profound', 'waste', 'saving', 'private', 'ryan', 'underlying', 'practical', 'acceptance', 'war', 'occur', 'great', 'cost', 'thin', 'red', 'line', 'says', 'idealistically', 'avoid', 'costs', 'one', 'message', 'necessarily', 'correct', 'depends', 'one', 'point', 'view', 'malick', 'film', 'war', 'set', 'tropical', 'paradise', 'john', 'toll', 'cinematography', 'beyond', 'lush', 'setting', 'poses', 'question', 'fighting', 'face', 'beauty', 'saving', 'private', 'ryan', 'capture', 'german', 'soldier', 'presents', 'moral', 'quandary', 'whether', 'let', 'thin', 'red', 'line', 'japanese', 'present', 'moral', 'quandary', 'war', 'first', 'place', 'like', 'americans', 'frightened', 'angry', 'grieving', 'praying', 'separates', 'war', 'flaw', 'thin', 'red', 'line', 'comes', 'voice', 'overs', 'unbelievable', 'coming', 'characters', 'sometimes', 'pretentious', 'sometimes', 'corny', 'voice', 'overs', 'tell', 'images', 'already', 'completely', 'unnecessary', 'dispensing', 'malick', 'could', 'achieved', 'tarkovskian', 'grandeur', 'instead', 'gets', 'distracting', 'self', 'consciousness', 'aside', 'malick', 'direction', 'stunning', 'tracking', 'shots', 'across', 'windswept', 'hills', 'around', 'transports', 'speeding', 'toward', 'shore', 'extraordinary', 'sean', 'penn', 'elias', 'koteas', 'nick', 'nolte', 'give', 'best', 'performances', 'penn', 'subtle', 'sergeant', 'trying', 'hide', 'humanism', 'koteas', 'genuine', 'compassionate', 'captain', 'nolte', 'startling', 'colonel', 'whose', 'blood', 'vessels', 'burst', 'win', 'battle', 'john', 'travolta', 'george', 'clooney', 'worst', 'cameo', 'roles', 'ultimately', 'however', 'thin', 'red', 'line', 'interest', 'characters', 'drama', 'frequently', 'criticized', 'lack', 'dramatic', 'structure', 'malick', 'clearly', 'different', 'things', 'mind', 'one', 'ever', 'thought', 'getting', 'dramatic', 'entertainment', 'war', 'exploitative', 'malick', 'working', 'theme', 'thin', 'red', 'line', 'provoking']\n",
            "['law', 'crowd', 'pleasing', 'romantic', 'movies', 'states', 'two', 'leads', 'must', 'end', 'together', 'film', 'end', 'familiar', 'law', 'maybe', 'seen', 'trailer', 'film', 'shows', 'two', 'leads', 'together', 'film', 'end', 'regular', 'reader', 'mine', 'heard', 'say', 'countless', 'times', 'know', 'drive', 'crazy', 'going', 'end', 'journey', 'get', 'ending', 'worth', 'definitely', 'melissa', 'joan', 'hart', 'abc', 'sabrina', 'teenage', 'witch', 'likes', 'hunky', 'stud', 'basketball', 'team', 'adrien', 'grenier', 'grungy', 'neighbor', 'broken', 'activist', 'girlfriend', 'apparently', 'wants', 'make', 'girlfriend', 'jealous', 'enough', 'take', 'back', 'wants', 'someone', 'take', 'big', 'year', 'end', 'dance', 'two', 'pretend', 'date', 'reason', 'hart', 'gives', 'grenier', 'bath', 'turn', 'hunky', 'stud', 'grenier', 'like', 'new', 'popularity', 'turn', 'friends', 'crazy', 'scheme', 'work', 'care', 'teen', 'comedy', 'resurgence', 'late', 'surprisingly', 'good', 'terms', 'comedy', 'makes', 'movies', 'like', 'hardly', 'wait', 'things', 'hate', 'work', 'lesser', 'extent', 'never', 'kissed', 'writers', 'films', 'seem', 'realize', 'high', 'school', 'joke', 'write', 'scripts', 'accordingly', 'know', 'writer', 'intention', 'drive', 'crazy', 'smart', 'comedy', 'films', 'make', 'obvious', 'endings', 'worth', 'getting', 'nothing', 'teens', 'whining', 'going', 'take', 'big', 'dance', 'favor', 'kids', 'get', 'job', 'something', 'shut', 'hell', 'honesty', 'best', 'part', 'film', 'end', 'credits', 'normally', 'say', 'followed', 'joke', 'movie', 'finally', 'case', 'though', 'end', 'credits', 'really', 'entertaining', 'part', 'film', 'obligatory', 'second', 'playing', 'britney', 'spears', 'titular', 'song', 'quick', 'commercial', 'jingle', 'burger', 'joint', 'kids', 'film', 'hang', 'brief', 'rendition', 'school', 'song', 'high', 'school', 'nothing', 'great', 'entertaining', 'anything', 'minutes', 'preceded', 'sci', 'fans', 'take', 'note', 'brief', 'appearances', 'stephen', 'collins', 'star', 'trek', 'motion', 'picture', 'faye', 'grant', 'miniseries', 'final', 'battle']\n"
          ]
        }
      ]
    },
    {
      "cell_type": "markdown",
      "metadata": {
        "id": "Sih5ocMvl6EB"
      },
      "source": [
        "3). Carry out label encoding by integers (required form by Keras):"
      ]
    },
    {
      "cell_type": "code",
      "metadata": {
        "id": "uj4r9G5o8tvV"
      },
      "source": [
        "#Guardamos el número de palabras en una variable que usaremos más adelante.\n",
        "numWords = len(corpusWords)"
      ],
      "execution_count": 17,
      "outputs": []
    },
    {
      "cell_type": "code",
      "metadata": {
        "colab": {
          "base_uri": "https://localhost:8080/"
        },
        "id": "bZUuLmKQ7JhV",
        "outputId": "5673c87d-caa0-46a3-8ed0-cf444ec10b34"
      },
      "source": [
        "#3.Crear un índice (diccionario) con las palabras más frecuentes\n",
        "vocabulary = []  #creamos un conjunto de palabras, de vocabulario, con todos los términos de las reseñas\n",
        "\n",
        "for doc in corpusWords:\n",
        "  vocabulary += doc\n",
        "#Ordenamos las palabras en función de su número de repeticiones en el conjunto de reseñas\n",
        "sortedWords = pd.Series(vocabulary).value_counts().index \n",
        "dicc = {}\n",
        "for i in range(numWords):\n",
        "  dicc[sortedWords[i]] =i+1\n",
        "\n",
        "print(len(vocabulary))\n",
        "print(dicc)\n",
        "print(len(dicc))"
      ],
      "execution_count": 18,
      "outputs": [
        {
          "output_type": "stream",
          "name": "stdout",
          "text": [
            "696832\n",
            "{'film': 1, 'one': 2, 'movie': 3, 'like': 4, 'even': 5, 'good': 6, 'time': 7, 'story': 8, 'would': 9, 'much': 10, 'character': 11, 'also': 12, 'get': 13, 'two': 14, 'well': 15, 'characters': 16, 'first': 17, 'see': 18, 'way': 19, 'make': 20, 'life': 21, 'really': 22, 'films': 23, 'plot': 24, 'little': 25, 'people': 26, 'could': 27, 'scene': 28, 'man': 29, 'bad': 30, 'never': 31, 'best': 32, 'new': 33, 'scenes': 34, 'many': 35, 'director': 36, 'know': 37, 'movies': 38, 'action': 39, 'great': 40, 'another': 41, 'love': 42, 'made': 43, 'big': 44, 'end': 45, 'something': 46, 'back': 47, 'still': 48, 'world': 49, 'seems': 50, 'work': 51, 'makes': 52, 'however': 53, 'every': 54, 'though': 55, 'better': 56, 'real': 57, 'audience': 58, 'seen': 59, 'enough': 60, 'take': 61, 'around': 62, 'going': 63, 'year': 64, 'performance': 65, 'role': 66, 'old': 67, 'gets': 68, 'may': 69, 'things': 70, 'think': 71, 'years': 72, 'last': 73, 'comedy': 74, 'funny': 75, 'actually': 76, 'long': 77, 'look': 78, 'almost': 79, 'thing': 80, 'fact': 81, 'nothing': 82, 'say': 83, 'john': 84, 'right': 85, 'although': 86, 'played': 87, 'find': 88, 'script': 89, 'come': 90, 'ever': 91, 'cast': 92, 'since': 93, 'star': 94, 'plays': 95, 'young': 96, 'show': 97, 'comes': 98, 'part': 99, 'original': 100, 'actors': 101, 'screen': 102, 'without': 103, 'three': 104, 'acting': 105, 'day': 106, 'point': 107, 'lot': 108, 'least': 109, 'takes': 110, 'guy': 111, 'quite': 112, 'away': 113, 'family': 114, 'effects': 115, 'course': 116, 'goes': 117, 'minutes': 118, 'interesting': 119, 'might': 120, 'far': 121, 'high': 122, 'rather': 123, 'anything': 124, 'must': 125, 'place': 126, 'set': 127, 'yet': 128, 'watch': 129, 'making': 130, 'wife': 131, 'hard': 132, 'always': 133, 'fun': 134, 'special': 135, 'seem': 136, 'bit': 137, 'times': 138, 'hollywood': 139, 'trying': 140, 'instead': 141, 'give': 142, 'picture': 143, 'want': 144, 'american': 145, 'kind': 146, 'job': 147, 'sense': 148, 'woman': 149, 'home': 150, 'series': 151, 'actor': 152, 'probably': 153, 'help': 154, 'half': 155, 'along': 156, 'men': 157, 'everything': 158, 'pretty': 159, 'becomes': 160, 'black': 161, 'sure': 162, 'together': 163, 'dialogue': 164, 'money': 165, 'become': 166, 'gives': 167, 'given': 168, 'looking': 169, 'whole': 170, 'watching': 171, 'father': 172, 'got': 173, 'feel': 174, 'everyone': 175, 'music': 176, 'wants': 177, 'sex': 178, 'less': 179, 'done': 180, 'horror': 181, 'death': 182, 'perhaps': 183, 'city': 184, 'next': 185, 'especially': 186, 'play': 187, 'girl': 188, 'mind': 189, 'moments': 190, 'looks': 191, 'completely': 192, 'mother': 193, 'reason': 194, 'whose': 195, 'line': 196, 'night': 197, 'human': 198, 'performances': 199, 'rest': 200, 'different': 201, 'small': 202, 'james': 203, 'evil': 204, 'simply': 205, 'couple': 206, 'put': 207, 'let': 208, 'anyone': 209, 'ending': 210, 'case': 211, 'several': 212, 'dead': 213, 'michael': 214, 'left': 215, 'thought': 216, 'school': 217, 'humor': 218, 'true': 219, 'shows': 220, 'written': 221, 'lost': 222, 'friend': 223, 'entire': 224, 'getting': 225, 'town': 226, 'turns': 227, 'soon': 228, 'second': 229, 'someone': 230, 'stars': 231, 'main': 232, 'found': 233, 'use': 234, 'problem': 235, 'friends': 236, 'top': 237, 'begins': 238, 'name': 239, 'called': 240, 'comic': 241, 'based': 242, 'david': 243, 'head': 244, 'else': 245, 'either': 246, 'idea': 247, 'wrong': 248, 'unfortunately': 249, 'later': 250, 'final': 251, 'alien': 252, 'hand': 253, 'house': 254, 'group': 255, 'full': 256, 'used': 257, 'often': 258, 'tries': 259, 'war': 260, 'sequence': 261, 'keep': 262, 'turn': 263, 'behind': 264, 'named': 265, 'playing': 266, 'boy': 267, 'live': 268, 'certainly': 269, 'believe': 270, 'relationship': 271, 'works': 272, 'face': 273, 'hour': 274, 'style': 275, 'run': 276, 'said': 277, 'person': 278, 'despite': 279, 'finally': 280, 'shot': 281, 'book': 282, 'tell': 283, 'maybe': 284, 'nice': 285, 'son': 286, 'perfect': 287, 'side': 288, 'seeing': 289, 'able': 290, 'finds': 291, 'days': 292, 'children': 293, 'past': 294, 'summer': 295, 'camera': 296, 'including': 297, 'kids': 298, 'lives': 299, 'directed': 300, 'game': 301, 'moment': 302, 'supposed': 303, 'running': 304, 'fight': 305, 'video': 306, 'car': 307, 'matter': 308, 'joe': 309, 'kevin': 310, 'lines': 311, 'worth': 312, 'daughter': 313, 'earth': 314, 'need': 315, 'starts': 316, 'entertaining': 317, 'white': 318, 'writer': 319, 'start': 320, 'dark': 321, 'short': 322, 'self': 323, 'worst': 324, 'nearly': 325, 'try': 326, 'upon': 327, 'opening': 328, 'care': 329, 'violence': 330, 'early': 331, 'throughout': 332, 'team': 333, 'production': 334, 'example': 335, 'beautiful': 336, 'jack': 337, 'exactly': 338, 'title': 339, 'major': 340, 'review': 341, 'drama': 342, 'sequences': 343, 'problems': 344, 'known': 345, 'screenplay': 346, 'version': 347, 'obvious': 348, 'killer': 349, 'robert': 350, 'disney': 351, 'classic': 352, 'already': 353, 'close': 354, 'others': 355, 'kill': 356, 'deep': 357, 'hit': 358, 'fine': 359, 'five': 360, 'simple': 361, 'order': 362, 'act': 363, 'jackie': 364, 'direction': 365, 'heart': 366, 'roles': 367, 'eyes': 368, 'four': 369, 'sort': 370, 'question': 371, 'knows': 372, 'sometimes': 373, 'supporting': 374, 'women': 375, 'coming': 376, 'voice': 377, 'truly': 378, 'save': 379, 'jokes': 380, 'computer': 381, 'child': 382, 'boring': 383, 'tom': 384, 'level': 385, 'body': 386, 'brother': 387, 'stop': 388, 'room': 389, 'genre': 390, 'guys': 391, 'strong': 392, 'space': 393, 'ends': 394, 'lee': 395, 'beginning': 396, 'ship': 397, 'york': 398, 'attempt': 399, 'thriller': 400, 'scream': 401, 'peter': 402, 'husband': 403, 'hero': 404, 'happens': 405, 'fiction': 406, 'hope': 407, 'novel': 408, 'note': 409, 'says': 410, 'king': 411, 'yes': 412, 'tells': 413, 'quickly': 414, 'dog': 415, 'oscar': 416, 'romantic': 417, 'stupid': 418, 'possible': 419, 'saw': 420, 'lead': 421, 'career': 422, 'murder': 423, 'manages': 424, 'god': 425, 'extremely': 426, 'wonder': 427, 'mostly': 428, 'future': 429, 'particularly': 430, 'sound': 431, 'worse': 432, 'fans': 433, 'involving': 434, 'piece': 435, 'planet': 436, 'involved': 437, 'paul': 438, 'appears': 439, 'mean': 440, 'hours': 441, 'taking': 442, 'laugh': 443, 'none': 444, 'police': 445, 'attention': 446, 'sets': 447, 'hell': 448, 'eventually': 449, 'single': 450, 'material': 451, 'emotional': 452, 'fall': 453, 'falls': 454, 'power': 455, 'late': 456, 'result': 457, 'van': 458, 'lack': 459, 'meet': 460, 'elements': 461, 'smith': 462, 'bring': 463, 'wild': 464, 'science': 465, 'experience': 466, 'living': 467, 'theater': 468, 'interest': 469, 'word': 470, 'leads': 471, 'feature': 472, 'battle': 473, 'alone': 474, 'girls': 475, 'obviously': 476, 'george': 477, 'enjoy': 478, 'within': 479, 'usually': 480, 'among': 481, 'guess': 482, 'aliens': 483, 'laughs': 484, 'taken': 485, 'feeling': 486, 'talk': 487, 'talent': 488, 'chance': 489, 'easy': 490, 'number': 491, 'middle': 492, 'across': 493, 'needs': 494, 'attempts': 495, 'television': 496, 'chris': 497, 'happen': 498, 'poor': 499, 'form': 500, 'deal': 501, 'viewer': 502, 'forced': 503, 'release': 504, 'girlfriend': 505, 'killed': 506, 'whether': 507, 'wonderful': 508, 'premise': 509, 'success': 510, 'feels': 511, 'features': 512, 'light': 513, 'serious': 514, 'tale': 515, 'except': 516, 'expect': 517, 'leave': 518, 'important': 519, 'meets': 520, 'happy': 521, 'history': 522, 'words': 523, 'art': 524, 'parents': 525, 'call': 526, 'turned': 527, 'crew': 528, 'released': 529, 'giving': 530, 'impressive': 531, 'type': 532, 'working': 533, 'mission': 534, 'score': 535, 'seemed': 536, 'told': 537, 'entertainment': 538, 'america': 539, 'recent': 540, 'basically': 541, 'robin': 542, 'surprise': 543, 'easily': 544, 'ryan': 545, 'apparently': 546, 'williams': 547, 'office': 548, 'crime': 549, 'change': 550, 'cool': 551, 'cop': 552, 'stuff': 553, 'somehow': 554, 'parts': 555, 'sequel': 556, 'william': 557, 'cut': 558, 'die': 559, 'jones': 560, 'batman': 561, 'credits': 562, 'brings': 563, 'suspense': 564, 'local': 565, 'reality': 566, 'events': 567, 'difficult': 568, 'using': 569, 'near': 570, 'talking': 571, 'went': 572, 'straight': 573, 'writing': 574, 'remember': 575, 'hilarious': 576, 'certain': 577, 'ago': 578, 'ben': 579, 'blood': 580, 'slow': 581, 'kid': 582, 'mystery': 583, 'fast': 584, 'complete': 585, 'popular': 586, 'effective': 587, 'red': 588, 'runs': 589, 'flick': 590, 'due': 591, 'quality': 592, 'return': 593, 'presence': 594, 'gone': 595, 'brothers': 596, 'filmmakers': 597, 'dramatic': 598, 'age': 599, 'general': 600, 'business': 601, 'present': 602, 'sexual': 603, 'rock': 604, 'anyway': 605, 'surprisingly': 606, 'uses': 607, 'figure': 608, 'personal': 609, 'smart': 610, 'ways': 611, 'decides': 612, 'annoying': 613, 'begin': 614, 'shots': 615, 'rich': 616, 'somewhat': 617, 'minute': 618, 'law': 619, 'harry': 620, 'similar': 621, 'water': 622, 'previous': 623, 'jim': 624, 'motion': 625, 'former': 626, 'successful': 627, 'absolutely': 628, 'read': 629, 'follow': 630, 'million': 631, 'came': 632, 'project': 633, 'strange': 634, 'amazing': 635, 'starring': 636, 'familiar': 637, 'excellent': 638, 'romance': 639, 'third': 640, 'secret': 641, 'clear': 642, 'intelligent': 643, 'actress': 644, 'eye': 645, 'latest': 646, 'budget': 647, 'company': 648, 'means': 649, 'party': 650, 'prison': 651, 'predictable': 652, 'towards': 653, 'powerful': 654, 'bob': 655, 'beyond': 656, 'visual': 657, 'leaves': 658, 'following': 659, 'villain': 660, 'nature': 661, 'leaving': 662, 'low': 663, 'sam': 664, 'filled': 665, 'bill': 666, 'animated': 667, 'wars': 668, 'message': 669, 'cinema': 670, 'questions': 671, 'moving': 672, 'box': 673, 'country': 674, 'add': 675, 'martin': 676, 'usual': 677, 'clever': 678, 'definitely': 679, 'large': 680, 'create': 681, 'ones': 682, 'giant': 683, 'felt': 684, 'brilliant': 685, 'situation': 686, 'stories': 687, 'murphy': 688, 'doubt': 689, 'drug': 690, 'scary': 691, 'opens': 692, 'break': 693, 'bunch': 694, 'thinking': 695, 'solid': 696, 'effect': 697, 'move': 698, 'learn': 699, 'force': 700, 'seriously': 701, 'potential': 702, 'follows': 703, 'saying': 704, 'class': 705, 'huge': 706, 'plan': 707, 'agent': 708, 'unlike': 709, 'created': 710, 'sweet': 711, 'mark': 712, 'non': 713, 'perfectly': 714, 'married': 715, 'pay': 716, 'realize': 717, 'audiences': 718, 'likely': 719, 'subject': 720, 'dream': 721, 'took': 722, 'scott': 723, 'decent': 724, 'view': 725, 'understand': 726, 'happened': 727, 'enjoyable': 728, 'immediately': 729, 'truman': 730, 'cameron': 731, 'heard': 732, 'open': 733, 'studio': 734, 'viewers': 735, 'points': 736, 'bruce': 737, 'frank': 738, 'richard': 739, 'cold': 740, 'stay': 741, 'fails': 742, 'impossible': 743, 'private': 744, 'exciting': 745, 'merely': 746, 'overall': 747, 'mess': 748, 'ten': 749, 'gun': 750, 'carter': 751, 'wanted': 752, 'chase': 753, 'free': 754, 'appear': 755, 'neither': 756, 'escape': 757, 'fan': 758, 'ultimately': 759, 'wedding': 760, 'trek': 761, 'favorite': 762, 'brought': 763, 'stone': 764, 'trouble': 765, 'modern': 766, 'inside': 767, 'allen': 768, 'otherwise': 769, 'tim': 770, 'bond': 771, 'dumb': 772, 'society': 773, 'liked': 774, 'particular': 775, 'talented': 776, 'political': 777, 'stand': 778, 'west': 779, 'various': 780, 'musical': 781, 'keeps': 782, 'state': 783, 'english': 784, 'situations': 785, 'silly': 786, 'park': 787, 'slightly': 788, 'teen': 789, 'truth': 790, 'rating': 791, 'air': 792, 'steve': 793, 'joke': 794, 'element': 795, 'key': 796, 'spend': 797, 'effort': 798, 'focus': 799, 'biggest': 800, 'members': 801, 'eddie': 802, 'government': 803, 'purpose': 804, 'soundtrack': 805, 'earlier': 806, 'hands': 807, 'today': 808, 'chan': 809, 'showing': 810, 'max': 811, 'six': 812, 'offers': 813, 'memorable': 814, 'mars': 815, 'rated': 816, 'totally': 817, 'heavy': 818, 'credit': 819, 'control': 820, 'woody': 821, 'wait': 822, 'sit': 823, 'sci': 824, 'ideas': 825, 'simon': 826, 'mary': 827, 'waste': 828, 'sister': 829, 'depth': 830, 'list': 831, 'aspect': 832, 'ask': 833, 'terrible': 834, 'female': 835, 'entirely': 836, 'animation': 837, 'fire': 838, 'constantly': 839, 'fear': 840, 'moves': 841, 'actual': 842, 'army': 843, 'steven': 844, 'british': 845, 'convincing': 846, 'setting': 847, 'tension': 848, 'gave': 849, 'cinematography': 850, 'ability': 851, 'nick': 852, 'street': 853, 'typical': 854, 'screenwriter': 855, 'brief': 856, 'spent': 857, 'ridiculous': 858, 'subtle': 859, 'violent': 860, 'quick': 861, 'atmosphere': 862, 'tone': 863, 'master': 864, 'expected': 865, 'killing': 866, 'fairly': 867, 'seven': 868, 'suddenly': 869, 'disaster': 870, 'song': 871, 'cheap': 872, 'thinks': 873, 'background': 874, 'lots': 875, 'willis': 876, 'club': 877, 'impact': 878, 'greatest': 879, 'highly': 880, 'whatever': 881, 'sees': 882, 'complex': 883, 'wrote': 884, 'flat': 885, 'grace': 886, 'amusing': 887, 'beauty': 888, 'indeed': 889, 'mike': 890, 'front': 891, 'humans': 892, 'dull': 893, 'plenty': 894, 'wish': 895, 'minor': 896, 'titanic': 897, 'godzilla': 898, 'recently': 899, 'outside': 900, 'cute': 901, 'hate': 902, 'college': 903, 'hold': 904, 'meanwhile': 905, 'sounds': 906, 'telling': 907, 'cinematic': 908, 'double': 909, 'queen': 910, 'sight': 911, 'hear': 912, 'clearly': 913, 'amount': 914, 'approach': 915, 'theme': 916, 'awful': 917, 'baby': 918, 'island': 919, 'dreams': 920, 'miss': 921, 'shown': 922, 'longer': 923, 'charm': 924, 'reasons': 925, 'sean': 926, 'carry': 927, 'realistic': 928, 'believable': 929, 'common': 930, 'chemistry': 931, 'possibly': 932, 'casting': 933, 'imagine': 934, 'produced': 935, 'french': 936, 'tough': 937, 'trailer': 938, 'carrey': 939, 'ride': 940, 'choice': 941, 'jackson': 942, 'slowly': 943, 'thin': 944, 'jerry': 945, 'brown': 946, 'hot': 947, 'somewhere': 948, 'road': 949, 'leader': 950, 'detective': 951, 'delivers': 952, 'race': 953, 'appearance': 954, 'provide': 955, 'famous': 956, 'president': 957, 'puts': 958, 'member': 959, 'critics': 960, 'asks': 961, 'energy': 962, 'intelligence': 963, 'vampire': 964, 'etc': 965, 'development': 966, 'sent': 967, 'proves': 968, 'spielberg': 969, 'blue': 970, 'okay': 971, 'language': 972, 'seemingly': 973, 'decide': 974, 'opportunity': 975, 'caught': 976, 'basic': 977, 'incredibly': 978, 'images': 979, 'climax': 980, 'writers': 981, 'thanks': 982, 'boys': 983, 'remains': 984, 'interested': 985, 'knew': 986, 'directing': 987, 'event': 988, 'band': 989, 'considering': 990, 'leading': 991, 'forget': 992, 'lies': 993, 'ground': 994, 'alive': 995, 'tarzan': 996, 'conclusion': 997, 'century': 998, 'central': 999, 'provides': 1000, 'tarantino': 1001, 'trip': 1002, 'pace': 1003, 'partner': 1004, 'period': 1005, 'terrific': 1006, 'worked': 1007, 'ready': 1008, 'date': 1009, '1998': 1010, 'thus': 1011, 'details': 1012, 'songs': 1013, 'occasionally': 1014, 'onto': 1015, 'monster': 1016, 'write': 1017, 'mysterious': 1018, 'hardly': 1019, 'led': 1020, 'average': 1021, 'doctor': 1022, 'stands': 1023, 'producer': 1024, 'consider': 1025, 'aside': 1026, 'store': 1027, 'travolta': 1028, 'boss': 1029, 'wasted': 1030, 'apart': 1031, 'billy': 1032, 'pull': 1033, 'looked': 1034, 'julia': 1035, 'officer': 1036, 'contains': 1037, 'becoming': 1038, 'system': 1039, 'loud': 1040, 'twenty': 1041, 'cage': 1042, 'pictures': 1043, 'subplot': 1044, 'building': 1045, 'missing': 1046, 'learns': 1047, 'apartment': 1048, 'hong': 1049, 'personality': 1050, 'unique': 1051, 'flaws': 1052, 'lawyer': 1053, 'admit': 1054, 'shoot': 1055, 'student': 1056, 'powers': 1057, 'bizarre': 1058, 'catch': 1059, '000': 1060, 'needed': 1061, 'twists': 1062, 'touch': 1063, 'matthew': 1064, 'concept': 1065, 'christopher': 1066, 'green': 1067, 'laughing': 1068, 'thrown': 1069, 'waiting': 1070, 'search': 1071, 'danny': 1072, 'cover': 1073, 'machine': 1074, 'victim': 1075, 'mention': 1076, 'saving': 1077, 'door': 1078, '1997': 1079, 'image': 1080, 'win': 1081, 'discovers': 1082, 'share': 1083, 'manner': 1084, 'train': 1085, 'male': 1086, 'odd': 1087, 'adventure': 1088, 'lame': 1089, 'normal': 1090, 'singer': 1091, 'fox': 1092, 'adds': 1093, 'deserves': 1094, 'returns': 1095, 'cross': 1096, 'adult': 1097, 'answer': 1098, 'gore': 1099, 'barely': 1100, 'social': 1101, '1999': 1102, 'introduced': 1103, 'equally': 1104, 'months': 1105, 'include': 1106, 'directors': 1107, 'news': 1108, 'states': 1109, 'fashion': 1110, 'camp': 1111, 'dance': 1112, 'hair': 1113, 'became': 1114, 'teacher': 1115, 'innocent': 1116, 'land': 1117, 'includes': 1118, 'food': 1119, 'julie': 1120, 'sad': 1121, 'jason': 1122, 'latter': 1123, 'witch': 1124, 'jennifer': 1125, 'nights': 1126, 'changes': 1127, 'gay': 1128, 'henry': 1129, 'storyline': 1130, 'fellow': 1131, 'tried': 1132, 'hill': 1133, 'rate': 1134, 'surprised': 1135, 'pulp': 1136, 'jean': 1137, 'elizabeth': 1138, 'contact': 1139, 'menace': 1140, 'anderson': 1141, 'forward': 1142, 'standard': 1143, 'public': 1144, 'enjoyed': 1145, 'recommend': 1146, 'wise': 1147, 'discover': 1148, 'literally': 1149, 'pop': 1150, 'offer': 1151, 'walk': 1152, 'toy': 1153, 'drive': 1154, 'chinese': 1155, 'mouth': 1156, 'charming': 1157, 'fair': 1158, 'terms': 1159, 'rescue': 1160, 'lucas': 1161, 'natural': 1162, 'decided': 1163, 'weak': 1164, 'edge': 1165, 'younger': 1166, 'blade': 1167, 'douglas': 1168, 'born': 1169, 'accident': 1170, 'presented': 1171, 'footage': 1172, 'culture': 1173, 'dies': 1174, 'detail': 1175, 'developed': 1176, 'explain': 1177, 'roger': 1178, 'devil': 1179, 'teenage': 1180, 'disturbing': 1181, 'generally': 1182, 'creates': 1183, 'addition': 1184, 'russell': 1185, 'horrible': 1186, 'track': 1187, 'debut': 1188, 'older': 1189, 'attack': 1190, 'week': 1191, 'sadly': 1192, 'fully': 1193, 'twist': 1194, 'meaning': 1195, 'winning': 1196, 'species': 1197, 'issues': 1198, 'exception': 1199, 'jeff': 1200, 'inspired': 1201, 'fresh': 1202, 'rules': 1203, 'rarely': 1204, 'gang': 1205, 'prove': 1206, 'filmed': 1207, 'desperate': 1208, 'flying': 1209, 'forces': 1210, 'rush': 1211, 'kong': 1212, 'numerous': 1213, 'involves': 1214, 'bright': 1215, 'alan': 1216, 'faces': 1217, 'fighting': 1218, 'heroes': 1219, 'charles': 1220, 'patrick': 1221, 'emotions': 1222, 'ass': 1223, 'jay': 1224, 'apparent': 1225, 'toward': 1226, 'opinion': 1227, 'calls': 1228, 'information': 1229, 'weird': 1230, 'editing': 1231, 'lose': 1232, 'vegas': 1233, 'revenge': 1234, 'stage': 1235, 'surprising': 1236, 'gags': 1237, 'intended': 1238, 'twice': 1239, 'military': 1240, 'epic': 1241, 'crazy': 1242, 'captain': 1243, 'speak': 1244, 'likes': 1245, 'appeal': 1246, 'gibson': 1247, 'owner': 1248, 'pair': 1249, 'places': 1250, 'genuine': 1251, 'throw': 1252, 'arnold': 1253, 'kiss': 1254, 'please': 1255, 'nowhere': 1256, 'talents': 1257, 'blair': 1258, 'cause': 1259, 'length': 1260, 'kelly': 1261, 'wide': 1262, 'phone': 1263, 'filmmaking': 1264, 'formula': 1265, 'boyfriend': 1266, 'nicely': 1267, 'buy': 1268, 'creating': 1269, 'pass': 1270, 'episode': 1271, 'loved': 1272, 'witty': 1273, 'mrs': 1274, 'shakespeare': 1275, 'mood': 1276, 'lacks': 1277, 'pathetic': 1278, 'asked': 1279, 'mulan': 1280, 'heads': 1281, 'fantasy': 1282, 'task': 1283, 'rare': 1284, 'pieces': 1285, 'kept': 1286, 'fascinating': 1287, 'affair': 1288, 'fbi': 1289, 'generation': 1290, 'burton': 1291, 'cameo': 1292, 'superior': 1293, 'incredible': 1294, 'artist': 1295, 'spirit': 1296, 'technical': 1297, 'thomas': 1298, 'academy': 1299, 'accent': 1300, 'christmas': 1301, 'target': 1302, 'legend': 1303, 'matt': 1304, 'process': 1305, 'shame': 1306, 'considered': 1307, 'woo': 1308, 'mentioned': 1309, 'campbell': 1310, 'poorly': 1311, 'dennis': 1312, 'soul': 1313, 'confusing': 1314, 'plane': 1315, 'appropriate': 1316, 'lover': 1317, 'theaters': 1318, 'confused': 1319, 'rob': 1320, 'speech': 1321, 'creepy': 1322, 'award': 1323, 'worthy': 1324, 'journey': 1325, 'pick': 1326, 'ice': 1327, 'virtually': 1328, 'intriguing': 1329, 'masterpiece': 1330, 'dude': 1331, 'sitting': 1332, 'superb': 1333, 'names': 1334, 'brain': 1335, 'speaking': 1336, 'marriage': 1337, 'crap': 1338, 'bottom': 1339, 'forever': 1340, 'charlie': 1341, 'deliver': 1342, 'affleck': 1343, 'respect': 1344, 'station': 1345, 'cash': 1346, 'magic': 1347, 'product': 1348, 'suppose': 1349, 'pointless': 1350, 'allows': 1351, 'necessary': 1352, 'dimensional': 1353, 'silent': 1354, 'relief': 1355, 'avoid': 1356, 'appreciate': 1357, 'hits': 1358, 'cliches': 1359, 'meant': 1360, 'stephen': 1361, 'spends': 1362, 'count': 1363, 'attitude': 1364, 'relationships': 1365, 'cops': 1366, 'physical': 1367, 'reviews': 1368, 'rising': 1369, 'creature': 1370, 'kate': 1371, 'unless': 1372, 'limited': 1373, 'loves': 1374, 'pure': 1375, 'total': 1376, 'sub': 1377, 'princess': 1378, 'failed': 1379, 'impression': 1380, 'holds': 1381, 'woods': 1382, 'pain': 1383, 'viewing': 1384, 'plans': 1385, 'step': 1386, 'color': 1387, 'wall': 1388, 'touching': 1389, 'remake': 1390, 'angry': 1391, 'matrix': 1392, 'themes': 1393, 'ray': 1394, 'tony': 1395, 'baldwin': 1396, 'hanks': 1397, 'arts': 1398, 'wit': 1399, 'satire': 1400, 'drawn': 1401, 'stuck': 1402, 'moral': 1403, 'device': 1404, 'comedic': 1405, 'criminal': 1406, 'stunning': 1407, 'suspect': 1408, 'disappointing': 1409, 'unfunny': 1410, 'cartoon': 1411, 'damn': 1412, 'edward': 1413, 'soldiers': 1414, 'realized': 1415, 'expectations': 1416, 'driver': 1417, 'actions': 1418, 'mad': 1419, 'anti': 1420, 'floor': 1421, 'shallow': 1422, 'graphic': 1423, 'appealing': 1424, 'phantom': 1425, 'angels': 1426, 'emotion': 1427, 'humorous': 1428, 'nobody': 1429, 'comedies': 1430, 'martial': 1431, 'continues': 1432, 'added': 1433, 'keeping': 1434, 'portrayal': 1435, 'industry': 1436, 'design': 1437, 'gon': 1438, 'blame': 1439, 'united': 1440, 'rocky': 1441, 'fat': 1442, 'reach': 1443, 'sign': 1444, 'troopers': 1445, 'speed': 1446, 'match': 1447, 'falling': 1448, 'finale': 1449, 'urban': 1450, 'loving': 1451, 'rose': 1452, 'apes': 1453, 'era': 1454, 'grand': 1455, 'field': 1456, 'hotel': 1457, 'larry': 1458, 'damme': 1459, 'opposite': 1460, 'compared': 1461, 'radio': 1462, 'adults': 1463, 'dad': 1464, 'started': 1465, 'humanity': 1466, 'loses': 1467, 'managed': 1468, 'naked': 1469, 'intense': 1470, 'lady': 1471, 'spice': 1472, 'manage': 1473, 'guns': 1474, 'therefore': 1475, 'wonderfully': 1476, 'results': 1477, 'frightening': 1478, 'price': 1479, 'slasher': 1480, 'utterly': 1481, 'washington': 1482, 'notice': 1483, 'bland': 1484, 'walking': 1485, 'scientist': 1486, 'horse': 1487, 'generated': 1488, 'players': 1489, 'moore': 1490, 'rent': 1491, 'imagination': 1492, 'teenagers': 1493, 'mix': 1494, 'board': 1495, 'willing': 1496, 'tommy': 1497, 'mel': 1498, 'bored': 1499, 'documentary': 1500, 'dvd': 1501, 'join': 1502, 'adaptation': 1503, 'zero': 1504, 'jane': 1505, 'parody': 1506, 'wayne': 1507, 'producers': 1508, 'johnny': 1509, 'spectacular': 1510, 'attractive': 1511, 'chosen': 1512, 'post': 1513, 'dollars': 1514, 'matters': 1515, 'vampires': 1516, 'exist': 1517, 'feelings': 1518, 'professional': 1519, 'ford': 1520, 'plain': 1521, 'spawn': 1522, 'shooting': 1523, 'difference': 1524, 'honest': 1525, 'safe': 1526, 'finding': 1527, 'feet': 1528, 'media': 1529, 'hall': 1530, 'visuals': 1531, 'boat': 1532, 'featuring': 1533, 'trust': 1534, 'sympathetic': 1535, 'build': 1536, 'gold': 1537, 'reading': 1538, 'fate': 1539, 'compelling': 1540, 'cruise': 1541, 'patch': 1542, 'protagonist': 1543, 'hoping': 1544, 'drugs': 1545, 'plus': 1546, 'portrayed': 1547, 'roberts': 1548, 'dangerous': 1549, 'dying': 1550, 'decision': 1551, 'visually': 1552, 'allow': 1553, 'grant': 1554, 'watched': 1555, 'flicks': 1556, 'starship': 1557, 'smile': 1558, 'bringing': 1559, 'bug': 1560, 'south': 1561, 'jedi': 1562, 'died': 1563, 'fake': 1564, 'sexy': 1565, 'identity': 1566, 'crowd': 1567, 'flynt': 1568, 'vincent': 1569, 'believes': 1570, 'destroy': 1571, 'turning': 1572, 'fail': 1573, 'alex': 1574, 'cult': 1575, 'hunt': 1576, 'tired': 1577, 'broken': 1578, 'changed': 1579, 'shock': 1580, 'serve': 1581, 'goofy': 1582, 'decade': 1583, 'likable': 1584, 'ups': 1585, 'current': 1586, 'yeah': 1587, 'humour': 1588, 'aspects': 1589, 'brooks': 1590, 'expecting': 1591, 'files': 1592, 'babe': 1593, 'send': 1594, 'engaging': 1595, 'jimmy': 1596, 'constant': 1597, 'technology': 1598, '100': 1599, 'survive': 1600, 'buddy': 1601, 'snake': 1602, 'sandler': 1603, 'professor': 1604, 'supposedly': 1605, 'test': 1606, 'hidden': 1607, 'individual': 1608, 'eight': 1609, 'promise': 1610, 'mob': 1611, 'determined': 1612, 'ted': 1613, 'presents': 1614, 'kills': 1615, 'succeeds': 1616, 'welcome': 1617, 'books': 1618, 'pleasure': 1619, 'annie': 1620, 'brian': 1621, 'hospital': 1622, 'contrived': 1623, 'taylor': 1624, 'fare': 1625, 'carpenter': 1626, 'window': 1627, 'japanese': 1628, 'faith': 1629, 'virus': 1630, 'content': 1631, 'sick': 1632, 'scale': 1633, 'fantastic': 1634, 'genius': 1635, 'helps': 1636, 'nasty': 1637, 'provided': 1638, 'haunting': 1639, 'filmmaker': 1640, 'direct': 1641, 'lucky': 1642, 'ghost': 1643, 'goal': 1644, 'winner': 1645, 'ultimate': 1646, 'conflict': 1647, 'gary': 1648, 'lynch': 1649, 'support': 1650, 'available': 1651, 'badly': 1652, 'travel': 1653, 'seagal': 1654, 'press': 1655, 'fit': 1656, 'driving': 1657, 'cares': 1658, 'amy': 1659, 'reeves': 1660, 'crash': 1661, 'frame': 1662, 'paced': 1663, 'breaks': 1664, 'catherine': 1665, 'lord': 1666, 'excuse': 1667, 'overly': 1668, 'extreme': 1669, 'porn': 1670, 'liners': 1671, 'narrative': 1672, 'helen': 1673, 'grows': 1674, 'guilty': 1675, 'fault': 1676, 'began': 1677, 'headed': 1678, 'ahead': 1679, 'instance': 1680, 'forgotten': 1681, 'accept': 1682, 'miller': 1683, 'directly': 1684, 'bus': 1685, 'offensive': 1686, 'surface': 1687, 'mediocre': 1688, 'failure': 1689, 'outstanding': 1690, 'model': 1691, 'laughable': 1692, 'jail': 1693, 'security': 1694, 'emotionally': 1695, 'cheesy': 1696, 'sheer': 1697, 'season': 1698, 'folks': 1699, 'bar': 1700, 'beach': 1701, 'austin': 1702, 'court': 1703, 'deals': 1704, 'quiet': 1705, 'super': 1706, 'acted': 1707, 'stuart': 1708, 'standing': 1709, 'slapstick': 1710, 'joan': 1711, 'reveal': 1712, 'fame': 1713, 'beast': 1714, 'nuclear': 1715, 'bloody': 1716, 'strength': 1717, 'center': 1718, 'nudity': 1719, 'damon': 1720, 'meeting': 1721, 'hurt': 1722, 'placed': 1723, '1996': 1724, 'acts': 1725, 'funniest': 1726, 'substance': 1727, 'check': 1728, 'treat': 1729, 'seat': 1730, 'remarkable': 1731, 'myers': 1732, 'responsible': 1733, 'realizes': 1734, 'fly': 1735, 'football': 1736, 'routine': 1737, 'driven': 1738, 'cinematographer': 1739, 'gangster': 1740, 'position': 1741, 'hopes': 1742, 'taste': 1743, 'singing': 1744, 'stock': 1745, 'clich': 1746, 'dealing': 1747, 'suspects': 1748, 'seconds': 1749, 'struggle': 1750, 'hunting': 1751, 'wondering': 1752, 'adams': 1753, 'comparison': 1754, 'desire': 1755, 'heaven': 1756, 'hopkins': 1757, 'anthony': 1758, 'growing': 1759, 'sharp': 1760, 'beat': 1761, 'costumes': 1762, 'streets': 1763, 'williamson': 1764, 'characterization': 1765, 'community': 1766, 'ended': 1767, 'strike': 1768, 'happening': 1769, 'figures': 1770, 'creative': 1771, 'ugly': 1772, 'guard': 1773, 'sarah': 1774, 'player': 1775, 'ill': 1776, 'thoroughly': 1777, 'eccentric': 1778, 'skills': 1779, 'rival': 1780, 'thankfully': 1781, 'surprises': 1782, 'originally': 1783, 'sidney': 1784, 'sea': 1785, 'animal': 1786, 'sorry': 1787, 'explained': 1788, 'crystal': 1789, 'visit': 1790, 'value': 1791, 'core': 1792, 'hey': 1793, 'oliver': 1794, 'missed': 1795, 'followed': 1796, 'extra': 1797, 'critic': 1798, 'breaking': 1799, 'inevitable': 1800, 'freeman': 1801, 'continue': 1802, 'serial': 1803, 'scorsese': 1804, 'steal': 1805, 'villains': 1806, 'lacking': 1807, 'claire': 1808, 'hollow': 1809, 'students': 1810, 'lets': 1811, 'built': 1812, 'animals': 1813, 'anne': 1814, 'joel': 1815, 'included': 1816, 'chief': 1817, 'jump': 1818, 'boogie': 1819, 'games': 1820, 'everybody': 1821, 'knowledge': 1822, 'cusack': 1823, 'stick': 1824, 'church': 1825, 'hip': 1826, 'draw': 1827, 'thirty': 1828, 'derek': 1829, 'quest': 1830, 'clooney': 1831, 'arrives': 1832, 'mistake': 1833, 'veteran': 1834, 'gotten': 1835, 'record': 1836, 'fights': 1837, 'explanation': 1838, '1995': 1839, 'develop': 1840, 'serves': 1841, 'judge': 1842, 'grow': 1843, 'mainly': 1844, 'luck': 1845, 'pacing': 1846, 'obsessed': 1847, 'holes': 1848, 'frequently': 1849, 'screenwriters': 1850, 'witness': 1851, 'heavily': 1852, 'clean': 1853, 'enter': 1854, 'schwarzenegger': 1855, 'flashbacks': 1856, 'russian': 1857, 'armageddon': 1858, 'previously': 1859, 'capable': 1860, 'rise': 1861, 'fill': 1862, 'keaton': 1863, 'barry': 1864, 'religious': 1865, 'vision': 1866, 'hearted': 1867, 'tragedy': 1868, 'bacon': 1869, 'hunter': 1870, 'adam': 1871, 'bobby': 1872, 'bigger': 1873, 'noir': 1874, 'encounter': 1875, 'memory': 1876, 'unexpected': 1877, 'empty': 1878, 'stallone': 1879, 'synopsis': 1880, 'lawrence': 1881, 'suit': 1882, 'bed': 1883, 'saved': 1884, 'spot': 1885, 'disappointment': 1886, 'wan': 1887, 'victims': 1888, 'nicholson': 1889, 'cliched': 1890, 'freedom': 1891, 'worker': 1892, 'vehicle': 1893, 'study': 1894, 'evidence': 1895, 'pulled': 1896, 'justice': 1897, 'mental': 1898, 'verhoeven': 1899, 'walter': 1900, 'existence': 1901, 'efforts': 1902, 'andrew': 1903, 'relatively': 1904, 'logic': 1905, 'theatre': 1906, 'fish': 1907, 'wood': 1908, 'warm': 1909, 'numbers': 1910, 'range': 1911, 'ripley': 1912, 'assistant': 1913, 'morning': 1914, 'describe': 1915, 'sky': 1916, 'connection': 1917, 'unnecessary': 1918, 'rip': 1919, 'alice': 1920, 'cliche': 1921, 'jonathan': 1922, 'talks': 1923, 'roll': 1924, 'weeks': 1925, 'jon': 1926, 'ball': 1927, 'skin': 1928, 'angel': 1929, 'london': 1930, 'positive': 1931, 'grown': 1932, 'foot': 1933, 'contrast': 1934, 'courtroom': 1935, 'learned': 1936, 'putting': 1937, 'eric': 1938, 'causes': 1939, 'bank': 1940, 'rain': 1941, 'genuinely': 1942, 'regular': 1943, 'faced': 1944, 'naturally': 1945, 'fifteen': 1946, 'eve': 1947, 'prince': 1948, 'exact': 1949, 'moved': 1950, 'international': 1951, 'path': 1952, 'las': 1953, 'asking': 1954, 'niro': 1955, 'bound': 1956, 'traditional': 1957, 'anna': 1958, 'remain': 1959, 'aware': 1960, 'reminiscent': 1961, 'desperately': 1962, 'greater': 1963, 'concerned': 1964, 'pilot': 1965, 'trash': 1966, 'daniel': 1967, 'ocean': 1968, 'elaborate': 1969, 'hundred': 1970, 'claims': 1971, 'paris': 1972, 'punch': 1973, 'knowing': 1974, 'rule': 1975, 'shrek': 1976, 'shocking': 1977, 'held': 1978, 'largely': 1979, 'independence': 1980, 'eat': 1981, 'cell': 1982, 'captured': 1983, 'besides': 1984, 'wearing': 1985, 'storm': 1986, 'danger': 1987, 'disappointed': 1988, 'hank': 1989, 'pig': 1990, 'blockbuster': 1991, 'jake': 1992, 'terror': 1993, 'occasional': 1994, 'minds': 1995, 'baseball': 1996, 'thrillers': 1997, 'national': 1998, 'satisfying': 1999, 'nomination': 2000}\n",
            "2000\n"
          ]
        }
      ]
    },
    {
      "cell_type": "code",
      "metadata": {
        "id": "-uuc2zbWPTsi"
      },
      "source": [
        "#4. Codificamos finalmente cada palabra presente en las reseñas del corpus.\n",
        "codedCorpus = []\n",
        "for review in corpusWords:\n",
        "  codedDoc = [dicc[word] for word in review if word in dicc]\n",
        "  codedCorpus.append(codedDoc)"
      ],
      "execution_count": 19,
      "outputs": []
    },
    {
      "cell_type": "markdown",
      "metadata": {
        "id": "Mcaq1lCGl6EC"
      },
      "source": [
        "4). Prepare the data for AI: <br>\n",
        "- Apply the padding.\n",
        "- Split the data into training and testing."
      ]
    },
    {
      "cell_type": "code",
      "metadata": {
        "colab": {
          "base_uri": "https://localhost:8080/",
          "height": 282
        },
        "id": "eH4DLV6T-dTV",
        "outputId": "206fa440-0c9d-4425-9a01-b3b45c7acdd1"
      },
      "source": [
        "# Consultamos cual es la media de longitud de las reseñas (con los datos procesados)\n",
        "extension = [len(d) for d in codedCorpus]\n",
        "print('Media:{}'.format(np.mean(extension)))\n",
        "plt.hist(extension)\n",
        "plt.show()"
      ],
      "execution_count": 20,
      "outputs": [
        {
          "output_type": "stream",
          "name": "stdout",
          "text": [
            "Media:225.325\n"
          ]
        },
        {
          "output_type": "display_data",
          "data": {
            "image/png": "[encoded data removed]",
            "text/plain": [
              "<Figure size 432x288 with 1 Axes>"
            ]
          },
          "metadata": {
            "needs_background": "light"
          }
        }
      ]
    },
    {
      "cell_type": "code",
      "metadata": {
        "id": "l0fR-4fMl6EC"
      },
      "source": [
        "#Creamos los conjuntos de entrenamiento y test\n",
        "#Como la mayoría de reseñas tienen una longitus de 100-300 palabras, establecemos un parámetro en torno a ese núm.\n",
        "parameter = 300\n",
        "\n",
        "X_final = sequence.pad_sequences(codedCorpus, maxlen= parameter)\n",
        "Y_final = np.array(Y)"
      ],
      "execution_count": 21,
      "outputs": []
    },
    {
      "cell_type": "code",
      "metadata": {
        "id": "KrFVy5wIFnLH"
      },
      "source": [
        "#Dividimos los datos en conjuntos de entrenamiento y test\n",
        "X_train, X_test, Y_train, Y_test = train_test_split(X_final, Y_final, test_size=0.3, random_state=123)"
      ],
      "execution_count": 22,
      "outputs": []
    },
    {
      "cell_type": "code",
      "metadata": {
        "colab": {
          "base_uri": "https://localhost:8080/"
        },
        "id": "HoqJZx_DFpEO",
        "outputId": "a6941ac1-30d4-4815-8c46-f6adb7715c5e"
      },
      "source": [
        "print(X_train.shape, Y_train.shape)\n",
        "print(X_test.shape, Y_test.shape)"
      ],
      "execution_count": 23,
      "outputs": [
        {
          "output_type": "stream",
          "name": "stdout",
          "text": [
            "(1400, 300) (1400,)\n",
            "(600, 300) (600,)\n"
          ]
        }
      ]
    },
    {
      "cell_type": "markdown",
      "metadata": {
        "id": "KwAnNPTEl6EC"
      },
      "source": [
        "5). Define the AI model (Embedding + LSTM):"
      ]
    },
    {
      "cell_type": "code",
      "metadata": {
        "id": "Fq6RtH9tl6ED"
      },
      "source": [
        "#Dimension del espacio denso \n",
        "numNeurons = 50\n",
        "dimDense = 100\n",
        "#[NumSecuencias(documentos), NumSecuencia(NumPalabrasDocumento = 300)]\n",
        "modelo = Sequential()\n",
        "modelo.add(Embedding(input_dim= numWords+1, output_dim=dimDense)) #Incrustación de palabras\n",
        "modelo.add(LSTM(units=numNeurons, return_sequences=False, activation='tanh'))\n",
        "modelo.add(Dense(units=1, activation= 'sigmoid' ))"
      ],
      "execution_count": 24,
      "outputs": []
    },
    {
      "cell_type": "code",
      "metadata": {
        "colab": {
          "base_uri": "https://localhost:8080/"
        },
        "id": "jTP6WEHjGsIY",
        "outputId": "b46184d9-d012-4a7f-af71-f44647d87263"
      },
      "source": [
        "modelo.summary()"
      ],
      "execution_count": 25,
      "outputs": [
        {
          "output_type": "stream",
          "name": "stdout",
          "text": [
            "Model: \"sequential\"\n",
            "_________________________________________________________________\n",
            " Layer (type)                Output Shape              Param #   \n",
            "=================================================================\n",
            " embedding (Embedding)       (None, None, 100)         200100    \n",
            "                                                                 \n",
            " lstm (LSTM)                 (None, 50)                30200     \n",
            "                                                                 \n",
            " dense (Dense)               (None, 1)                 51        \n",
            "                                                                 \n",
            "=================================================================\n",
            "Total params: 230,351\n",
            "Trainable params: 230,351\n",
            "Non-trainable params: 0\n",
            "_________________________________________________________________\n"
          ]
        }
      ]
    },
    {
      "cell_type": "markdown",
      "metadata": {
        "id": "uaOgQPZFl6ED"
      },
      "source": [
        "6). Define the optimizer and compile the model:"
      ]
    },
    {
      "cell_type": "code",
      "metadata": {
        "id": "vvtSv0k0l6ED"
      },
      "source": [
        "tasaApr= 0.0001\n",
        "modelo.compile(optimizer= Adam(learning_rate = tasaApr), loss= 'binary_crossentropy', metrics= ['accuracy'])"
      ],
      "execution_count": 26,
      "outputs": []
    },
    {
      "cell_type": "markdown",
      "metadata": {
        "id": "Ty64NpBdl6ED"
      },
      "source": [
        "7). Train the model and visualize the summary:"
      ]
    },
    {
      "cell_type": "code",
      "metadata": {
        "id": "uRkqxk1_l6ED",
        "colab": {
          "base_uri": "https://localhost:8080/"
        },
        "outputId": "e4579fb7-b9e7-4d1e-f10f-960bf3137693"
      },
      "source": [
        "epocas = 8 #Si vemos que la gráfica hace muchos picos, podemos aumentar el número de épocas bajando la tasa se aprendizaje, para que no aprenda a golpes\n",
        "tamBatch = 10 #no un tamaño muy grande para que se vaya actualizando cada poco y adaptándose\n",
        "resEntrena= modelo.fit(X_train, Y_train, epochs= epocas, batch_size= tamBatch, validation_split=0.2, verbose=1)"
      ],
      "execution_count": 27,
      "outputs": [
        {
          "output_type": "stream",
          "name": "stdout",
          "text": [
            "Epoch 1/8\n",
            "112/112 [==============================] - 12s 79ms/step - loss: 0.6935 - accuracy: 0.5045 - val_loss: 0.6925 - val_accuracy: 0.5536\n",
            "Epoch 2/8\n",
            "112/112 [==============================] - 8s 74ms/step - loss: 0.6894 - accuracy: 0.6161 - val_loss: 0.6909 - val_accuracy: 0.5607\n",
            "Epoch 3/8\n",
            "112/112 [==============================] - 8s 74ms/step - loss: 0.6763 - accuracy: 0.6616 - val_loss: 0.6767 - val_accuracy: 0.6929\n",
            "Epoch 4/8\n",
            "112/112 [==============================] - 8s 73ms/step - loss: 0.6199 - accuracy: 0.8214 - val_loss: 0.6259 - val_accuracy: 0.6750\n",
            "Epoch 5/8\n",
            "112/112 [==============================] - 8s 75ms/step - loss: 0.4725 - accuracy: 0.8330 - val_loss: 0.5510 - val_accuracy: 0.7464\n",
            "Epoch 6/8\n",
            "112/112 [==============================] - 8s 73ms/step - loss: 0.3448 - accuracy: 0.8884 - val_loss: 0.5112 - val_accuracy: 0.7429\n",
            "Epoch 7/8\n",
            "112/112 [==============================] - 8s 75ms/step - loss: 0.2495 - accuracy: 0.9304 - val_loss: 0.4564 - val_accuracy: 0.7857\n",
            "Epoch 8/8\n",
            "112/112 [==============================] - 8s 73ms/step - loss: 0.1761 - accuracy: 0.9545 - val_loss: 0.4384 - val_accuracy: 0.7964\n"
          ]
        }
      ]
    },
    {
      "cell_type": "code",
      "metadata": {
        "colab": {
          "base_uri": "https://localhost:8080/"
        },
        "id": "1pLf6VcQG_On",
        "outputId": "e5f7cd0e-7f6d-4cc3-e088-e46262e8a89b"
      },
      "source": [
        "resEntrena.history.keys()"
      ],
      "execution_count": 28,
      "outputs": [
        {
          "output_type": "execute_result",
          "data": {
            "text/plain": [
              "dict_keys(['loss', 'accuracy', 'val_loss', 'val_accuracy'])"
            ]
          },
          "metadata": {},
          "execution_count": 28
        }
      ]
    },
    {
      "cell_type": "code",
      "metadata": {
        "colab": {
          "base_uri": "https://localhost:8080/",
          "height": 280
        },
        "id": "JoCvILsqHBwP",
        "outputId": "89d5d833-c073-478c-d348-f5c59c3e2932"
      },
      "source": [
        "fig, ejes = plt.subplots(nrows =1, ncols=2, figsize=[20,5])\n",
        "ejes[0].plot(resEntrena.history['loss'], color= 'black', linestyle= '-', label='loss')\n",
        "ejes[0].plot(resEntrena.history['val_loss'], color= 'red', label='val_loss')\n",
        "ejes[0].set_title('Sigmoide')\n",
        "ejes[0].set_xlabel('Tiempo')\n",
        "ejes[0].set_ylabel('Medida')\n",
        "ejes[0]. legend(loc='upper right')\n",
        "ejes[1].plot(resEntrena.history['accuracy'],color='black', linestyle= '-', label= 'acc')\n",
        "ejes[1].plot(resEntrena.history['val_accuracy'],color='red', label= 'val_acc')\n",
        "ejes[1].set_title('Precisión')\n",
        "ejes[1].set_xlabel('Tiempo')\n",
        "ejes[1].set_ylabel('Medida')\n",
        "ejes[1]. legend(loc='best')\n",
        "plt.show()"
      ],
      "execution_count": 29,
      "outputs": [
        {
          "output_type": "display_data",
          "data": {
            "image/png": "[encoded data removed]",
            "text/plain": [
              "<Figure size 1440x360 with 2 Axes>"
            ]
          },
          "metadata": {
            "needs_background": "light"
          }
        }
      ]
    },
    {
      "cell_type": "markdown",
      "metadata": {
        "id": "yWqVTgSgl6EE"
      },
      "source": [
        "8). Display the test result (accuracy):"
      ]
    },
    {
      "cell_type": "code",
      "metadata": {
        "id": "JtFPuX51l6EE",
        "colab": {
          "base_uri": "https://localhost:8080/"
        },
        "outputId": "0d6da7d1-4287-43ed-cd34-af24e8296fb6"
      },
      "source": [
        "resTest = modelo.evaluate(X_test, Y_test, verbose=0)\n",
        "print('Precisión sobre el conjunto de test:{} '.format(np.round(resTest[1],2)))"
      ],
      "execution_count": 30,
      "outputs": [
        {
          "output_type": "stream",
          "name": "stdout",
          "text": [
            "Precisión sobre el conjunto de test:0.84 \n"
          ]
        }
      ]
    }
  ]
}
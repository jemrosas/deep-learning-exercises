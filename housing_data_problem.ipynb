{
  "nbformat": 4,
  "nbformat_minor": 0,
  "metadata": {
    "kernelspec": {
      "display_name": "Python 3 (ipykernel)",
      "language": "python",
      "name": "python3"
    },
    "language_info": {
      "codemirror_mode": {
        "name": "ipython",
        "version": 3
      },
      "file_extension": ".py",
      "mimetype": "text/x-python",
      "name": "python",
      "nbconvert_exporter": "python",
      "pygments_lexer": "ipython3",
      "version": "3.9.7"
    },
    "colab": {
      "name": "problem_0701_Jesica_Miguez.ipynb",
      "provenance": [],
      "collapsed_sections": []
    },
    "accelerator": "GPU"
  },
  "cells": [
    {
      "cell_type": "markdown",
      "metadata": {
        "id": "WZtsRjl2pY0F"
      },
      "source": [
        "## Quiz #0701"
      ]
    },
    {
      "cell_type": "markdown",
      "metadata": {
        "id": "5AWBrOP6pY0G"
      },
      "source": [
        "### \"TensorFlow machine learning with Calilfornia housing data\""
      ]
    },
    {
      "cell_type": "code",
      "metadata": {
        "colab": {
          "base_uri": "https://localhost:8080/"
        },
        "id": "1Z_d-T1upY0G",
        "outputId": "3e1148bc-092a-4e76-d36a-65fbe4f34bb3"
      },
      "source": [
        "# Compatibility with tf 1.x\n",
        "import tensorflow.compat.v1 as tf\n",
        "tf.disable_v2_behavior()\n",
        "\n",
        "import numpy as np\n",
        "import pandas as pd\n",
        "from sklearn.datasets import fetch_california_housing\n",
        "from sklearn.model_selection import train_test_split\n",
        "from sklearn.preprocessing import scale\n",
        "import matplotlib.pyplot as plt\n",
        "import warnings\n",
        "%matplotlib inline\n",
        "warnings.filterwarnings('ignore')    # Turn the warnings off."
      ],
      "execution_count": 1,
      "outputs": [
        {
          "output_type": "stream",
          "name": "stdout",
          "text": [
            "WARNING:tensorflow:From /usr/local/lib/python3.7/dist-packages/tensorflow/python/compat/v2_compat.py:111: disable_resource_variables (from tensorflow.python.ops.variable_scope) is deprecated and will be removed in a future version.\n",
            "Instructions for updating:\n",
            "non-resource variables are not supported in the long term\n"
          ]
        }
      ]
    },
    {
      "cell_type": "markdown",
      "metadata": {
        "id": "0CAnbsJHpY0H"
      },
      "source": [
        "#### Answer the following question by providing Python code:"
      ]
    },
    {
      "cell_type": "code",
      "metadata": {
        "id": "PNDGcMLvpY0H"
      },
      "source": [
        "# Bring the data.\n",
        "housing_data = fetch_california_housing()"
      ],
      "execution_count": 2,
      "outputs": []
    },
    {
      "cell_type": "code",
      "metadata": {
        "colab": {
          "base_uri": "https://localhost:8080/"
        },
        "id": "GarJ87KKpY0I",
        "outputId": "dfa0a47e-ce9f-409d-9319-9a02ca6ee65d"
      },
      "source": [
        "# Read the description.\n",
        "print(housing_data['DESCR'])"
      ],
      "execution_count": 3,
      "outputs": [
        {
          "output_type": "stream",
          "name": "stdout",
          "text": [
            ".. _california_housing_dataset:\n",
            "\n",
            "California Housing dataset\n",
            "--------------------------\n",
            "\n",
            "**Data Set Characteristics:**\n",
            "\n",
            "    :Number of Instances: 20640\n",
            "\n",
            "    :Number of Attributes: 8 numeric, predictive attributes and the target\n",
            "\n",
            "    :Attribute Information:\n",
            "        - MedInc        median income in block\n",
            "        - HouseAge      median house age in block\n",
            "        - AveRooms      average number of rooms\n",
            "        - AveBedrms     average number of bedrooms\n",
            "        - Population    block population\n",
            "        - AveOccup      average house occupancy\n",
            "        - Latitude      house block latitude\n",
            "        - Longitude     house block longitude\n",
            "\n",
            "    :Missing Attribute Values: None\n",
            "\n",
            "This dataset was obtained from the StatLib repository.\n",
            "http://lib.stat.cmu.edu/datasets/\n",
            "\n",
            "The target variable is the median house value for California districts.\n",
            "\n",
            "This dataset was derived from the 1990 U.S. census, using one row per census\n",
            "block group. A block group is the smallest geographical unit for which the U.S.\n",
            "Census Bureau publishes sample data (a block group typically has a population\n",
            "of 600 to 3,000 people).\n",
            "\n",
            "It can be downloaded/loaded using the\n",
            ":func:`sklearn.datasets.fetch_california_housing` function.\n",
            "\n",
            ".. topic:: References\n",
            "\n",
            "    - Pace, R. Kelley and Ronald Barry, Sparse Spatial Autoregressions,\n",
            "      Statistics and Probability Letters, 33 (1997) 291-297\n",
            "\n"
          ]
        }
      ]
    },
    {
      "cell_type": "markdown",
      "metadata": {
        "id": "VwP3YX2IpY0I"
      },
      "source": [
        "1). Explore the data:\n",
        "- Display the dataset as a DataFrame with column labels (data + labels)."
      ]
    },
    {
      "cell_type": "markdown",
      "metadata": {
        "id": "4h6MBlDapY0I"
      },
      "source": [
        "2). Build a machine learning model with TensorFlow. \n",
        "- Preprocess the data if necessary.\n",
        "- Build a linear **regression** model.\n",
        "- Train the model.\n",
        "- Calculate the error metrics such as MSE and RMSE (in-sample or training and out-of-sample or testing). Target: RMSE < 1."
      ]
    },
    {
      "cell_type": "code",
      "metadata": {
        "colab": {
          "base_uri": "https://localhost:8080/"
        },
        "id": "3T7QwZTPprzB",
        "outputId": "e3d76329-333f-4da1-f9a8-de619310a4b9"
      },
      "source": [
        "#Primero vemos los datos cargados\n",
        "print(housing_data.keys())\n",
        "X = housing_data['data']                  # Get the data from the dataset ('data' attribute)\n",
        "y = housing_data['target'] \n",
        "# Imprimimos las dimensiones de X e y\n",
        "print(X.shape)\n",
        "print(y.shape)"
      ],
      "execution_count": 4,
      "outputs": [
        {
          "output_type": "stream",
          "name": "stdout",
          "text": [
            "dict_keys(['data', 'target', 'feature_names', 'DESCR'])\n",
            "(20640, 8)\n",
            "(20640,)\n"
          ]
        }
      ]
    },
    {
      "cell_type": "code",
      "metadata": {
        "colab": {
          "base_uri": "https://localhost:8080/"
        },
        "id": "t98mO8qP04TN",
        "outputId": "e0fd82de-d8e3-4f9e-b3e3-4202fdac4454"
      },
      "source": [
        "y = y.reshape(-1,1) # Redimensionamos el vector y a una matriz de tamaño (20640,1), para no tener problemas con la operativa\n",
        "print(X.shape)\n",
        "print(y.shape)"
      ],
      "execution_count": 5,
      "outputs": [
        {
          "output_type": "stream",
          "name": "stdout",
          "text": [
            "(20640, 8)\n",
            "(20640, 1)\n"
          ]
        }
      ]
    },
    {
      "cell_type": "code",
      "metadata": {
        "colab": {
          "base_uri": "https://localhost:8080/",
          "height": 417
        },
        "id": "FqHcyCAtyKcX",
        "outputId": "d796c6bd-c190-475a-df7c-a89ced03ca7b"
      },
      "source": [
        "new_data = np.concatenate((X,y), axis=1) #Unimos los arrays de X e y en un mismo plano para construir la variable sobre la que contruiremos el dataframe\n",
        "#Definimos las columnas\n",
        "#column_names = ['MedInc','HouseAge','AveRooms','AveBedrms','Population','AveOccup', 'Latitude', 'Longitude']\n",
        "df = pd.DataFrame(data= new_data, columns= housing_data.feature_names + ['MedHouseVal']) #Añadimos un nombre para la columna que alberga la variable y\n",
        "df # Mostramos el dataframe\n",
        "\n",
        "# No necesitamos buscar valores nulos ya que en las características del dataset nos garantizan que no los hay."
      ],
      "execution_count": 6,
      "outputs": [
        {
          "output_type": "execute_result",
          "data": {
            "text/html": [
              "<div>\n",
              "<style scoped>\n",
              "    .dataframe tbody tr th:only-of-type {\n",
              "        vertical-align: middle;\n",
              "    }\n",
              "\n",
              "    .dataframe tbody tr th {\n",
              "        vertical-align: top;\n",
              "    }\n",
              "\n",
              "    .dataframe thead th {\n",
              "        text-align: right;\n",
              "    }\n",
              "</style>\n",
              "<table border=\"1\" class=\"dataframe\">\n",
              "  <thead>\n",
              "    <tr style=\"text-align: right;\">\n",
              "      <th></th>\n",
              "      <th>MedInc</th>\n",
              "      <th>HouseAge</th>\n",
              "      <th>AveRooms</th>\n",
              "      <th>AveBedrms</th>\n",
              "      <th>Population</th>\n",
              "      <th>AveOccup</th>\n",
              "      <th>Latitude</th>\n",
              "      <th>Longitude</th>\n",
              "      <th>MedHouseVal</th>\n",
              "    </tr>\n",
              "  </thead>\n",
              "  <tbody>\n",
              "    <tr>\n",
              "      <th>0</th>\n",
              "      <td>8.3252</td>\n",
              "      <td>41.0</td>\n",
              "      <td>6.984127</td>\n",
              "      <td>1.023810</td>\n",
              "      <td>322.0</td>\n",
              "      <td>2.555556</td>\n",
              "      <td>37.88</td>\n",
              "      <td>-122.23</td>\n",
              "      <td>4.526</td>\n",
              "    </tr>\n",
              "    <tr>\n",
              "      <th>1</th>\n",
              "      <td>8.3014</td>\n",
              "      <td>21.0</td>\n",
              "      <td>6.238137</td>\n",
              "      <td>0.971880</td>\n",
              "      <td>2401.0</td>\n",
              "      <td>2.109842</td>\n",
              "      <td>37.86</td>\n",
              "      <td>-122.22</td>\n",
              "      <td>3.585</td>\n",
              "    </tr>\n",
              "    <tr>\n",
              "      <th>2</th>\n",
              "      <td>7.2574</td>\n",
              "      <td>52.0</td>\n",
              "      <td>8.288136</td>\n",
              "      <td>1.073446</td>\n",
              "      <td>496.0</td>\n",
              "      <td>2.802260</td>\n",
              "      <td>37.85</td>\n",
              "      <td>-122.24</td>\n",
              "      <td>3.521</td>\n",
              "    </tr>\n",
              "    <tr>\n",
              "      <th>3</th>\n",
              "      <td>5.6431</td>\n",
              "      <td>52.0</td>\n",
              "      <td>5.817352</td>\n",
              "      <td>1.073059</td>\n",
              "      <td>558.0</td>\n",
              "      <td>2.547945</td>\n",
              "      <td>37.85</td>\n",
              "      <td>-122.25</td>\n",
              "      <td>3.413</td>\n",
              "    </tr>\n",
              "    <tr>\n",
              "      <th>4</th>\n",
              "      <td>3.8462</td>\n",
              "      <td>52.0</td>\n",
              "      <td>6.281853</td>\n",
              "      <td>1.081081</td>\n",
              "      <td>565.0</td>\n",
              "      <td>2.181467</td>\n",
              "      <td>37.85</td>\n",
              "      <td>-122.25</td>\n",
              "      <td>3.422</td>\n",
              "    </tr>\n",
              "    <tr>\n",
              "      <th>...</th>\n",
              "      <td>...</td>\n",
              "      <td>...</td>\n",
              "      <td>...</td>\n",
              "      <td>...</td>\n",
              "      <td>...</td>\n",
              "      <td>...</td>\n",
              "      <td>...</td>\n",
              "      <td>...</td>\n",
              "      <td>...</td>\n",
              "    </tr>\n",
              "    <tr>\n",
              "      <th>20635</th>\n",
              "      <td>1.5603</td>\n",
              "      <td>25.0</td>\n",
              "      <td>5.045455</td>\n",
              "      <td>1.133333</td>\n",
              "      <td>845.0</td>\n",
              "      <td>2.560606</td>\n",
              "      <td>39.48</td>\n",
              "      <td>-121.09</td>\n",
              "      <td>0.781</td>\n",
              "    </tr>\n",
              "    <tr>\n",
              "      <th>20636</th>\n",
              "      <td>2.5568</td>\n",
              "      <td>18.0</td>\n",
              "      <td>6.114035</td>\n",
              "      <td>1.315789</td>\n",
              "      <td>356.0</td>\n",
              "      <td>3.122807</td>\n",
              "      <td>39.49</td>\n",
              "      <td>-121.21</td>\n",
              "      <td>0.771</td>\n",
              "    </tr>\n",
              "    <tr>\n",
              "      <th>20637</th>\n",
              "      <td>1.7000</td>\n",
              "      <td>17.0</td>\n",
              "      <td>5.205543</td>\n",
              "      <td>1.120092</td>\n",
              "      <td>1007.0</td>\n",
              "      <td>2.325635</td>\n",
              "      <td>39.43</td>\n",
              "      <td>-121.22</td>\n",
              "      <td>0.923</td>\n",
              "    </tr>\n",
              "    <tr>\n",
              "      <th>20638</th>\n",
              "      <td>1.8672</td>\n",
              "      <td>18.0</td>\n",
              "      <td>5.329513</td>\n",
              "      <td>1.171920</td>\n",
              "      <td>741.0</td>\n",
              "      <td>2.123209</td>\n",
              "      <td>39.43</td>\n",
              "      <td>-121.32</td>\n",
              "      <td>0.847</td>\n",
              "    </tr>\n",
              "    <tr>\n",
              "      <th>20639</th>\n",
              "      <td>2.3886</td>\n",
              "      <td>16.0</td>\n",
              "      <td>5.254717</td>\n",
              "      <td>1.162264</td>\n",
              "      <td>1387.0</td>\n",
              "      <td>2.616981</td>\n",
              "      <td>39.37</td>\n",
              "      <td>-121.24</td>\n",
              "      <td>0.894</td>\n",
              "    </tr>\n",
              "  </tbody>\n",
              "</table>\n",
              "<p>20640 rows × 9 columns</p>\n",
              "</div>"
            ],
            "text/plain": [
              "       MedInc  HouseAge  AveRooms  ...  Latitude  Longitude  MedHouseVal\n",
              "0      8.3252      41.0  6.984127  ...     37.88    -122.23        4.526\n",
              "1      8.3014      21.0  6.238137  ...     37.86    -122.22        3.585\n",
              "2      7.2574      52.0  8.288136  ...     37.85    -122.24        3.521\n",
              "3      5.6431      52.0  5.817352  ...     37.85    -122.25        3.413\n",
              "4      3.8462      52.0  6.281853  ...     37.85    -122.25        3.422\n",
              "...       ...       ...       ...  ...       ...        ...          ...\n",
              "20635  1.5603      25.0  5.045455  ...     39.48    -121.09        0.781\n",
              "20636  2.5568      18.0  6.114035  ...     39.49    -121.21        0.771\n",
              "20637  1.7000      17.0  5.205543  ...     39.43    -121.22        0.923\n",
              "20638  1.8672      18.0  5.329513  ...     39.43    -121.32        0.847\n",
              "20639  2.3886      16.0  5.254717  ...     39.37    -121.24        0.894\n",
              "\n",
              "[20640 rows x 9 columns]"
            ]
          },
          "metadata": {},
          "execution_count": 6
        }
      ]
    },
    {
      "cell_type": "code",
      "metadata": {
        "colab": {
          "base_uri": "https://localhost:8080/"
        },
        "id": "e5t52GMY1hwa",
        "outputId": "05b7c8d7-e9f2-427a-ffd7-d616fa093473"
      },
      "source": [
        "print(np.min(X), np.max(X), np.mean(X), np.std(X))\n",
        "X = scale(X)\n",
        "print(np.min(X), np.max(X), np.mean(X), np.std(X))"
      ],
      "execution_count": 7,
      "outputs": [
        {
          "output_type": "stream",
          "name": "stdout",
          "text": [
            "-124.35 35682.0 172.9556735813799 621.6720986716564\n",
            "-2.3859923416733877 119.41910318829312 -1.1890574657535784e-15 0.9999999999999999\n"
          ]
        }
      ]
    },
    {
      "cell_type": "code",
      "metadata": {
        "colab": {
          "base_uri": "https://localhost:8080/"
        },
        "id": "NQx5rTm_1kcn",
        "outputId": "7fe7bd54-d39d-47e7-83f9-f185f7d0dbbf"
      },
      "source": [
        "X_train, X_test, y_train, y_test = train_test_split(X,y, test_size=0.3)  # Dividimos las variables 'X' e 'y' en dos secciones: \"entrenamiento\" (70%) y test (30%)\n",
        "n_train_size = X_train.shape[0]\n",
        "print(X_train.shape)                                    # Mostramos las dimensiones de X_train, X_test, y_train, y_test      \n",
        "print(X_test.shape) \n",
        "print(y_train.shape) \n",
        "print(y_test.shape)"
      ],
      "execution_count": 8,
      "outputs": [
        {
          "output_type": "stream",
          "name": "stdout",
          "text": [
            "(14448, 8)\n",
            "(6192, 8)\n",
            "(14448, 1)\n",
            "(6192, 1)\n"
          ]
        }
      ]
    },
    {
      "cell_type": "code",
      "metadata": {
        "id": "36B3I16o2LJ8"
      },
      "source": [
        "# Definimos los siguientes parámetros:\n",
        "batch_size = 32                                # Tamaño de cada 'batch'.\n",
        "n_epochs  = 50000                              # Nº de épocas.\n",
        "learn_rate = 0.0001                            # Tasa de aprendizaje"
      ],
      "execution_count": 9,
      "outputs": []
    },
    {
      "cell_type": "code",
      "metadata": {
        "id": "4jhRvQ2D2MMk"
      },
      "source": [
        "# Definimos las Variables y Placeholders\n",
        "W =  tf.Variable(tf.random_normal([8,1]), name='W', dtype=tf.float32)  # Define la matriz W (tipo tf.float32)\n",
        "b =  tf.Variable(tf.random_normal([1]), name='b', dtype=tf.float32)  # Por cada valor de salida, se requiere un bias.\n",
        "\n",
        "X_ph =  tf.placeholder(tf.float32, shape=(None,8), name='X_ph') # Define un placeholder de tipo float con un nº de filas no especificado.\n",
        "y_ph =  tf.placeholder(tf.float32, shape=(None), name='y_ph')   # Define un placeholder de tipo float con nº de columnas igual al nº de variables de regresión."
      ],
      "execution_count": 10,
      "outputs": []
    },
    {
      "cell_type": "code",
      "metadata": {
        "id": "8jmMIeuC2dp6"
      },
      "source": [
        "# Definimos el modelo\n",
        "y_model = tf.matmul(X_ph,W) + b  # Modelo de regresión linear simple. "
      ],
      "execution_count": 11,
      "outputs": []
    },
    {
      "cell_type": "code",
      "metadata": {
        "id": "CYycOs_Q2h14"
      },
      "source": [
        "#Definimos la función de pérdida y el método de optimización\n",
        "loss = tf.reduce_mean(tf.square(y_ph-y_model)) # Define el error cuadrático medio (L2 Error)\n",
        "optimizer = tf.train.MomentumOptimizer(learning_rate=learn_rate, momentum=0.9) # Define el optimizador 'momentum' con una tasa de aprendizaje igual a la anteriormente definida y momentum = 0.9 (valor por defecto)\n",
        "train = optimizer.minimize(loss)  # Define el entrenamiento en base al optimizador de pérdida.\n",
        "init = tf.global_variables_initializer()  # Define la inicialización de las variables anteriores."
      ],
      "execution_count": 12,
      "outputs": []
    },
    {
      "cell_type": "code",
      "metadata": {
        "colab": {
          "base_uri": "https://localhost:8080/"
        },
        "id": "eE0Rgmwt21GP",
        "outputId": "d53a0e62-adfc-473d-a941-78922e8a44c1"
      },
      "source": [
        "# Realizamos el proceso de entrenamiento. Al final, calcularemos el mse para el entrenamiento y es test.\n",
        "with tf.Session() as sess:\n",
        "    sess.run(init)\n",
        "    # Fase de entrenamiento (realizando los pasos contenidos a partir del 'for' en sucesivos bucles definidos posteriormente en base a la épocas marcadas anteriormente).\n",
        "    for i in range(n_epochs):\n",
        "        idx_rnd = np.random.choice(range(n_train_size),batch_size,replace=False)  # Se generan los índices para la selección de las muestras o batch.                \n",
        "        batch_X, batch_y = X_train[idx_rnd,:], y_train[idx_rnd,:] # Seleccionamos los batch y los entrenamos.\n",
        "        # Metemos los datos con los que vamos a alimentar al modelo en un diccionario y se los pasamos                   \n",
        "        my_feed = {X_ph:batch_X, y_ph:batch_y}\n",
        "        sess.run(train, feed_dict = my_feed)\n",
        "        \n",
        "        if (i + 1) % 500 == 0:\n",
        "            l = sess.run(loss, feed_dict = my_feed)\n",
        "            print(\"Step : {}, Loss : {}\".format(i + 1, l))\n",
        "    # Fase de testing\n",
        "    mse = loss\n",
        "    # Tras definir el mse en función a la variable de pérdida, calculamos dicho error para los datos de entrenamiento y test\n",
        "    mse_train = sess.run(mse, feed_dict = {X_ph:X_train, y_ph: y_train})\n",
        "    mse_test = sess.run(mse, feed_dict = {X_ph:X_test, y_ph: y_test})"
      ],
      "execution_count": 13,
      "outputs": [
        {
          "output_type": "stream",
          "name": "stdout",
          "text": [
            "Step : 500, Loss : 2.2003204822540283\n",
            "Step : 1000, Loss : 0.9563908576965332\n",
            "Step : 1500, Loss : 0.9113023281097412\n",
            "Step : 2000, Loss : 0.44624221324920654\n",
            "Step : 2500, Loss : 1.0850332975387573\n",
            "Step : 3000, Loss : 0.6153214573860168\n",
            "Step : 3500, Loss : 0.6917641758918762\n",
            "Step : 4000, Loss : 1.107374668121338\n",
            "Step : 4500, Loss : 0.8523281812667847\n",
            "Step : 5000, Loss : 1.0105079412460327\n",
            "Step : 5500, Loss : 0.28934425115585327\n",
            "Step : 6000, Loss : 0.6063458919525146\n",
            "Step : 6500, Loss : 0.4203428328037262\n",
            "Step : 7000, Loss : 0.43730711936950684\n",
            "Step : 7500, Loss : 0.8171295523643494\n",
            "Step : 8000, Loss : 0.5885061025619507\n",
            "Step : 8500, Loss : 0.4655064642429352\n",
            "Step : 9000, Loss : 0.6800311803817749\n",
            "Step : 9500, Loss : 0.46337753534317017\n",
            "Step : 10000, Loss : 0.5928782820701599\n",
            "Step : 10500, Loss : 1.1964126825332642\n",
            "Step : 11000, Loss : 0.3585911691188812\n",
            "Step : 11500, Loss : 0.5250943899154663\n",
            "Step : 12000, Loss : 0.4124101400375366\n",
            "Step : 12500, Loss : 0.6995092034339905\n",
            "Step : 13000, Loss : 0.4490237832069397\n",
            "Step : 13500, Loss : 0.5390952825546265\n",
            "Step : 14000, Loss : 0.5318989157676697\n",
            "Step : 14500, Loss : 0.5943465232849121\n",
            "Step : 15000, Loss : 0.5723145604133606\n",
            "Step : 15500, Loss : 0.6633476614952087\n",
            "Step : 16000, Loss : 0.43092042207717896\n",
            "Step : 16500, Loss : 0.3059113025665283\n",
            "Step : 17000, Loss : 0.45330750942230225\n",
            "Step : 17500, Loss : 0.4764783978462219\n",
            "Step : 18000, Loss : 0.522384762763977\n",
            "Step : 18500, Loss : 0.2832128703594208\n",
            "Step : 19000, Loss : 0.33800289034843445\n",
            "Step : 19500, Loss : 0.6295522451400757\n",
            "Step : 20000, Loss : 0.30261796712875366\n",
            "Step : 20500, Loss : 0.34339970350265503\n",
            "Step : 21000, Loss : 0.4599572718143463\n",
            "Step : 21500, Loss : 0.5207725763320923\n",
            "Step : 22000, Loss : 0.45192980766296387\n",
            "Step : 22500, Loss : 0.5267663598060608\n",
            "Step : 23000, Loss : 0.7046261429786682\n",
            "Step : 23500, Loss : 0.6106254458427429\n",
            "Step : 24000, Loss : 0.7665172815322876\n",
            "Step : 24500, Loss : 0.4704296290874481\n",
            "Step : 25000, Loss : 0.5363564491271973\n",
            "Step : 25500, Loss : 0.4667647182941437\n",
            "Step : 26000, Loss : 0.5959329605102539\n",
            "Step : 26500, Loss : 0.2872580885887146\n",
            "Step : 27000, Loss : 0.7088664770126343\n",
            "Step : 27500, Loss : 0.5094362497329712\n",
            "Step : 28000, Loss : 0.45035094022750854\n",
            "Step : 28500, Loss : 0.4301843047142029\n",
            "Step : 29000, Loss : 0.6296592950820923\n",
            "Step : 29500, Loss : 0.5733392834663391\n",
            "Step : 30000, Loss : 0.4565773010253906\n",
            "Step : 30500, Loss : 0.9561192393302917\n",
            "Step : 31000, Loss : 0.677359402179718\n",
            "Step : 31500, Loss : 0.808814287185669\n",
            "Step : 32000, Loss : 0.45496538281440735\n",
            "Step : 32500, Loss : 0.951217532157898\n",
            "Step : 33000, Loss : 0.3849620521068573\n",
            "Step : 33500, Loss : 1.0015970468521118\n",
            "Step : 34000, Loss : 0.35293838381767273\n",
            "Step : 34500, Loss : 0.5865352749824524\n",
            "Step : 35000, Loss : 0.7052710652351379\n",
            "Step : 35500, Loss : 0.36584338545799255\n",
            "Step : 36000, Loss : 0.6376000642776489\n",
            "Step : 36500, Loss : 0.5329129695892334\n",
            "Step : 37000, Loss : 0.4307081699371338\n",
            "Step : 37500, Loss : 0.8373512029647827\n",
            "Step : 38000, Loss : 0.2392883449792862\n",
            "Step : 38500, Loss : 0.31743645668029785\n",
            "Step : 39000, Loss : 0.723469614982605\n",
            "Step : 39500, Loss : 0.5123167634010315\n",
            "Step : 40000, Loss : 0.5171964168548584\n",
            "Step : 40500, Loss : 0.5425164699554443\n",
            "Step : 41000, Loss : 0.7115729451179504\n",
            "Step : 41500, Loss : 0.3922213912010193\n",
            "Step : 42000, Loss : 0.3485037088394165\n",
            "Step : 42500, Loss : 0.8542518615722656\n",
            "Step : 43000, Loss : 0.45910367369651794\n",
            "Step : 43500, Loss : 0.5936593413352966\n",
            "Step : 44000, Loss : 0.33292651176452637\n",
            "Step : 44500, Loss : 0.44157081842422485\n",
            "Step : 45000, Loss : 0.5491229891777039\n",
            "Step : 45500, Loss : 0.7036033868789673\n",
            "Step : 46000, Loss : 0.6442753076553345\n",
            "Step : 46500, Loss : 0.4438134431838989\n",
            "Step : 47000, Loss : 0.8527289628982544\n",
            "Step : 47500, Loss : 0.519039511680603\n",
            "Step : 48000, Loss : 0.33615681529045105\n",
            "Step : 48500, Loss : 0.4029437303543091\n",
            "Step : 49000, Loss : 0.5199015140533447\n",
            "Step : 49500, Loss : 0.512118935585022\n",
            "Step : 50000, Loss : 0.42736345529556274\n"
          ]
        }
      ]
    },
    {
      "cell_type": "code",
      "metadata": {
        "colab": {
          "base_uri": "https://localhost:8080/"
        },
        "id": "X9fhS89z28XM",
        "outputId": "bbb54d5c-844e-4d47-a565-9d7a6bbe6faa"
      },
      "source": [
        "# Mostramos el MSE y the RMSE (la raíz cuadrada del MSE) para los conjuntos de datos de entrenamiento y test.\n",
        "\n",
        "print(\"Training: MSE - {}, RMSE - {}\".format(mse_train + 1, np.sqrt(mse_train)))\n",
        "print(\"Test: MSE - {}, RMSE - {}\".format(mse_train + 1, np.sqrt(mse_train)))"
      ],
      "execution_count": 16,
      "outputs": [
        {
          "output_type": "stream",
          "name": "stdout",
          "text": [
            "Training: MSE - 1.52139812707901, RMSE - 0.7220790386199951\n",
            "Test: MSE - 1.52139812707901, RMSE - 0.7220790386199951\n"
          ]
        }
      ]
    },
    {
      "cell_type": "markdown",
      "metadata": {
        "id": "bpHheMn1PjWk"
      },
      "source": [
        "Obtenemos un resultado del RMSE menor que 1, como era requerido."
      ]
    }
  ]
}